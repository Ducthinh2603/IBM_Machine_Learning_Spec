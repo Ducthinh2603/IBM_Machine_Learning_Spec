{
 "cells": [
  {
   "cell_type": "code",
   "execution_count": null,
   "metadata": {
    "_cell_guid": "b1076dfc-b9ad-4769-8c92-a6c4dae69d19",
    "_uuid": "8f2839f25d086af736a60e9eeb907d3b93b6e0e5",
    "execution": {
     "iopub.execute_input": "2022-11-19T13:00:11.468115Z",
     "iopub.status.busy": "2022-11-19T13:00:11.467646Z",
     "iopub.status.idle": "2022-11-19T13:00:11.48224Z",
     "shell.execute_reply": "2022-11-19T13:00:11.480782Z",
     "shell.execute_reply.started": "2022-11-19T13:00:11.468072Z"
    }
   },
   "outputs": [],
   "source": [
    "import numpy as np \n",
    "import pandas as pd \n",
    "import matplotlib.pyplot as plt\n",
    "from nltk.corpus import stopwords\n",
    "from sklearn.pipeline import Pipeline\n",
    "from sklearn.feature_extraction.text import CountVectorizer\n",
    "from sklearn.feature_extraction.text import TfidfVectorizer\n",
    "from sklearn.linear_model import LogisticRegression\n",
    "from sklearn.naive_bayes import MultinomialNB\n",
    "from sklearn.tree import DecisionTreeClassifier\n",
    "from sklearn.ensemble import RandomForestClassifier\n",
    "from sklearn.neural_network import MLPClassifier\n",
    "import tensorflow as tf\n",
    "from tensorflow.keras.layers import Input, Dense\n",
    "from sklearn import svm\n",
    "from sklearn.model_selection import train_test_split\n",
    "from sklearn.metrics import classification_report, recall_score, precision_score, f1_score, roc_curve, auc, precision_recall_curve\n",
    "\n",
    "\n",
    "\n",
    "import os\n",
    "for dirname, _, filenames in os.walk('/kaggle/input'):\n",
    "    for filename in filenames:\n",
    "        print(os.path.join(dirname, filename))\n",
    "\n",
    "\n"
   ]
  },
  {
   "cell_type": "code",
   "execution_count": null,
   "metadata": {
    "execution": {
     "iopub.execute_input": "2022-11-19T13:00:11.485558Z",
     "iopub.status.busy": "2022-11-19T13:00:11.484742Z",
     "iopub.status.idle": "2022-11-19T13:00:11.549022Z",
     "shell.execute_reply": "2022-11-19T13:00:11.547749Z",
     "shell.execute_reply.started": "2022-11-19T13:00:11.485506Z"
    }
   },
   "outputs": [],
   "source": [
    "all_data = pd.read_csv('/kaggle/input/-coffeemakerclassification/coffee_maker.csv')\n",
    "all_data.head()"
   ]
  },
  {
   "cell_type": "code",
   "execution_count": null,
   "metadata": {
    "execution": {
     "iopub.execute_input": "2022-11-19T13:00:11.552395Z",
     "iopub.status.busy": "2022-11-19T13:00:11.551586Z",
     "iopub.status.idle": "2022-11-19T13:00:11.651317Z",
     "shell.execute_reply": "2022-11-19T13:00:11.64991Z",
     "shell.execute_reply.started": "2022-11-19T13:00:11.552344Z"
    }
   },
   "outputs": [],
   "source": [
    "# creating a label column based on the product ratings. \n",
    "# Negative sentiment is the outcome of interest. \n",
    "# Ratings 1-3 -> negative sentiment. Ratings 4-5 -> positive sentiment\n",
    "\n",
    "all_data['label'] = all_data.apply(lambda row: row.rating>3.0,axis=1)\n",
    "all_data['label'] = all_data['label'].astype(int)\n",
    "all_data.head()"
   ]
  },
  {
   "cell_type": "code",
   "execution_count": null,
   "metadata": {
    "execution": {
     "iopub.execute_input": "2022-11-19T13:00:11.653982Z",
     "iopub.status.busy": "2022-11-19T13:00:11.653505Z",
     "iopub.status.idle": "2022-11-19T13:00:11.907605Z",
     "shell.execute_reply": "2022-11-19T13:00:11.906225Z",
     "shell.execute_reply.started": "2022-11-19T13:00:11.653933Z"
    }
   },
   "outputs": [],
   "source": [
    "# Assessing label class distribution\n",
    "\n",
    "plt.hist(all_data['label'])\n",
    "plt.gca().set(title = 'Frequency Distribution of label',ylabel='Frequency',xlabel='label')\n",
    "plt.show()"
   ]
  },
  {
   "cell_type": "code",
   "execution_count": null,
   "metadata": {
    "execution": {
     "iopub.execute_input": "2022-11-19T13:00:11.912712Z",
     "iopub.status.busy": "2022-11-19T13:00:11.911728Z",
     "iopub.status.idle": "2022-11-19T13:00:11.943918Z",
     "shell.execute_reply": "2022-11-19T13:00:11.943089Z",
     "shell.execute_reply.started": "2022-11-19T13:00:11.912647Z"
    }
   },
   "outputs": [],
   "source": [
    "all_data['review'] = all_data['review'].astype(str).apply(lambda x:x.lower())\n",
    "all_data.head()"
   ]
  },
  {
   "cell_type": "markdown",
   "metadata": {},
   "source": [
    "**Train/Test Split**"
   ]
  },
  {
   "cell_type": "code",
   "execution_count": null,
   "metadata": {
    "execution": {
     "iopub.execute_input": "2022-11-19T13:00:11.945961Z",
     "iopub.status.busy": "2022-11-19T13:00:11.945443Z",
     "iopub.status.idle": "2022-11-19T13:00:11.958799Z",
     "shell.execute_reply": "2022-11-19T13:00:11.957855Z",
     "shell.execute_reply.started": "2022-11-19T13:00:11.945921Z"
    }
   },
   "outputs": [],
   "source": [
    "X = all_data['review']\n",
    "y = all_data['label']\n",
    "\n",
    "X_train, X_test, y_train, y_test = train_test_split(X, y, test_size=0.3, random_state=14)\n",
    "X_train.shape,X_test.shape, y_train.shape, y_test.shape"
   ]
  },
  {
   "cell_type": "markdown",
   "metadata": {},
   "source": [
    "**Logistic Regression Model**"
   ]
  },
  {
   "cell_type": "code",
   "execution_count": null,
   "metadata": {
    "execution": {
     "iopub.execute_input": "2022-11-19T13:00:11.960885Z",
     "iopub.status.busy": "2022-11-19T13:00:11.960496Z",
     "iopub.status.idle": "2022-11-19T13:00:12.405694Z",
     "shell.execute_reply": "2022-11-19T13:00:12.404324Z",
     "shell.execute_reply.started": "2022-11-19T13:00:11.960848Z"
    }
   },
   "outputs": [],
   "source": [
    "lr= LogisticRegression()\n",
    "\n",
    "pipe = Pipeline([\n",
    "            ('tfidf', TfidfVectorizer()), \n",
    "            ('Logistic Regression',lr),\n",
    "            ])\n",
    "\n",
    "pipe.fit(X_train,y_train)\n",
    "pred = pipe.predict(X_test)\n",
    "pred_prob = pipe.predict_proba(X_test)[:, 1]\n",
    "\n",
    "fpr, tpr, thresholds = roc_curve(y_test, pred_prob)\n",
    "precision, recall, thresholds_pr = precision_recall_curve(y_test, pred)\n",
    "\n",
    "print(\"_________Logistic Regression Model_________\")\n",
    "print(classification_report(y_test, pred))\n",
    "print('ROC AUC: ', auc(fpr, tpr))\n",
    "print('Precision/Recall AUC: ', auc(precision, recall))"
   ]
  },
  {
   "cell_type": "markdown",
   "metadata": {},
   "source": [
    "**SVM**"
   ]
  },
  {
   "cell_type": "code",
   "execution_count": null,
   "metadata": {
    "execution": {
     "iopub.execute_input": "2022-11-19T13:00:12.407457Z",
     "iopub.status.busy": "2022-11-19T13:00:12.407072Z",
     "iopub.status.idle": "2022-11-19T13:00:36.727645Z",
     "shell.execute_reply": "2022-11-19T13:00:36.726367Z",
     "shell.execute_reply.started": "2022-11-19T13:00:12.407421Z"
    }
   },
   "outputs": [],
   "source": [
    "model = svm.SVC(probability=True)\n",
    "\n",
    "pipe = Pipeline([\n",
    "            ('tfidf', TfidfVectorizer()), \n",
    "            ('SVM',model),\n",
    "            ])\n",
    "\n",
    "pipe.fit(X_train,y_train)\n",
    "pred = pipe.predict(X_test)\n",
    "pred_prob = pipe.predict_proba(X_test)[:, 1]\n",
    "\n",
    "fpr, tpr, thresholds = roc_curve(y_test, pred_prob)\n",
    "precision, recall, thresholds_pr = precision_recall_curve(y_test, pred)\n",
    "\n",
    "print(\"_________SVM_________\")\n",
    "print(classification_report(y_test, pred))\n",
    "print('ROC AUC: ', auc(fpr, tpr))\n",
    "print('Precision/Recall AUC: ', auc(precision, recall))"
   ]
  },
  {
   "cell_type": "markdown",
   "metadata": {},
   "source": [
    "**Decision Tree Classifier**"
   ]
  },
  {
   "cell_type": "code",
   "execution_count": null,
   "metadata": {
    "execution": {
     "iopub.execute_input": "2022-11-19T13:00:36.730558Z",
     "iopub.status.busy": "2022-11-19T13:00:36.729335Z",
     "iopub.status.idle": "2022-11-19T13:00:37.191504Z",
     "shell.execute_reply": "2022-11-19T13:00:37.190387Z",
     "shell.execute_reply.started": "2022-11-19T13:00:36.730512Z"
    }
   },
   "outputs": [],
   "source": [
    "dt = DecisionTreeClassifier(max_depth=5)\n",
    "\n",
    "pipe = Pipeline([\n",
    "            ('tfidf', TfidfVectorizer()), \n",
    "            ('Decision Tree Classifier',dt),\n",
    "            ])\n",
    "\n",
    "pipe.fit(X_train,y_train)\n",
    "pred = pipe.predict(X_test)\n",
    "pred_prob = pipe.predict_proba(X_test)[:, 1]\n",
    "\n",
    "fpr, tpr, thresholds = roc_curve(y_test, pred_prob)\n",
    "precision, recall, thresholds_pr = precision_recall_curve(y_test, pred)\n",
    "\n",
    "print(\"_________Decision Tree Classifier_________\")\n",
    "print(classification_report(y_test, pred))\n",
    "print('ROC AUC: ', auc(fpr, tpr))\n",
    "print('Precision/Recall AUC: ', auc(precision, recall))"
   ]
  },
  {
   "cell_type": "markdown",
   "metadata": {},
   "source": [
    "**Random Forest Classifier**"
   ]
  },
  {
   "cell_type": "code",
   "execution_count": null,
   "metadata": {
    "execution": {
     "iopub.execute_input": "2022-11-19T13:00:37.196147Z",
     "iopub.status.busy": "2022-11-19T13:00:37.195745Z",
     "iopub.status.idle": "2022-11-19T13:00:37.590591Z",
     "shell.execute_reply": "2022-11-19T13:00:37.589427Z",
     "shell.execute_reply.started": "2022-11-19T13:00:37.196111Z"
    }
   },
   "outputs": [],
   "source": [
    "rf = RandomForestClassifier(max_depth=5, n_estimators=10)\n",
    "\n",
    "\n",
    "pipe = Pipeline([\n",
    "            ('tfidf', TfidfVectorizer()), \n",
    "            ('Random Forest Classifier',rf),\n",
    "            ])\n",
    "\n",
    "pipe.fit(X_train,y_train)\n",
    "pred = pipe.predict(X_test)\n",
    "pred_prob = pipe.predict_proba(X_test)[:, 1]\n",
    "\n",
    "fpr, tpr, thresholds = roc_curve(y_test, pred_prob)\n",
    "precision, recall, thresholds_pr = precision_recall_curve(y_test, pred)\n",
    "\n",
    "print(\"_________Random Forest Classifier_________\")\n",
    "print(classification_report(y_test, pred))\n",
    "print('ROC AUC: ', auc(fpr, tpr))\n",
    "print('Precision/Recall AUC: ', auc(precision, recall))"
   ]
  },
  {
   "cell_type": "markdown",
   "metadata": {},
   "source": [
    "**ANN**"
   ]
  },
  {
   "cell_type": "code",
   "execution_count": null,
   "metadata": {
    "execution": {
     "iopub.execute_input": "2022-11-19T13:00:37.59566Z",
     "iopub.status.busy": "2022-11-19T13:00:37.594745Z",
     "iopub.status.idle": "2022-11-19T13:01:47.400535Z",
     "shell.execute_reply": "2022-11-19T13:01:47.399285Z",
     "shell.execute_reply.started": "2022-11-19T13:00:37.5956Z"
    }
   },
   "outputs": [],
   "source": [
    "mlp = MLPClassifier(alpha=1, max_iter=1000)\n",
    "\n",
    "\n",
    "pipe = Pipeline([\n",
    "            ('tfidf', TfidfVectorizer()), \n",
    "            ('ANN',mlp),\n",
    "            ])\n",
    "\n",
    "pipe.fit(X_train,y_train)\n",
    "pred = pipe.predict(X_test)\n",
    "pred_prob = pipe.predict_proba(X_test)[:, 1]\n",
    "\n",
    "fpr, tpr, thresholds = roc_curve(y_test, pred_prob)\n",
    "precision, recall, thresholds_pr = precision_recall_curve(y_test, pred)\n",
    "\n",
    "print(\"_________ ANN _________\")\n",
    "print(classification_report(y_test, pred))\n",
    "print('ROC AUC: ', auc(fpr, tpr))\n",
    "print('Precision/Recall AUC: ', auc(precision, recall))"
   ]
  },
  {
   "cell_type": "markdown",
   "metadata": {},
   "source": [
    "**Naive Bayes**"
   ]
  },
  {
   "cell_type": "code",
   "execution_count": null,
   "metadata": {
    "execution": {
     "iopub.execute_input": "2022-11-19T13:01:51.869633Z",
     "iopub.status.busy": "2022-11-19T13:01:51.869226Z",
     "iopub.status.idle": "2022-11-19T13:01:52.222371Z",
     "shell.execute_reply": "2022-11-19T13:01:52.221138Z",
     "shell.execute_reply.started": "2022-11-19T13:01:51.8696Z"
    }
   },
   "outputs": [],
   "source": [
    "nb = MultinomialNB()\n",
    "pipe = Pipeline([\n",
    "            ('tfidf', TfidfVectorizer()), \n",
    "            ('Multinomial Naive Bayes',nb),\n",
    "            ])\n",
    "\n",
    "pipe.fit(X_train,y_train)\n",
    "pred = pipe.predict(X_test)\n",
    "pred_prob = pipe.predict_proba(X_test)[:, 1]\n",
    "\n",
    "fpr, tpr, thresholds = roc_curve(y_test, pred_prob)\n",
    "precision, recall, thresholds_pr = precision_recall_curve(y_test, pred)\n",
    "\n",
    "print(\"_________Multinomial Naive Bayes_________\")\n",
    "print(classification_report(y_test, pred))\n",
    "print('ROC AUC: ', auc(fpr, tpr))\n",
    "print('Precision/Recall AUC: ', auc(precision, recall))"
   ]
  },
  {
   "cell_type": "markdown",
   "metadata": {},
   "source": [
    "# Choice of Model \n",
    "\n",
    "Out of all the models, Logistic Regression model performs the best. The Precision, Recall, f1-score, accuracy, ROC AUC are all good. \n",
    "In case of Naive Bayes, the recall is low.\n",
    "In case of ANN, the none of the metrics are low, but since Logistic Regression also gives similar scores, it is better to choose Logistic Regression model since it takes lesser time to train and is easier to interpret and implement. \n",
    "The precision and recall is very low in case of Random Forest Classifier so it is not a good choice. \n",
    "In case of Decision Tree Classifier, the ROC AUC, precision, recall are low and this model cannot be used. "
   ]
  },
  {
   "cell_type": "code",
   "execution_count": null,
   "metadata": {
    "execution": {
     "iopub.execute_input": "2022-11-19T13:01:47.847583Z",
     "iopub.status.busy": "2022-11-19T13:01:47.846323Z",
     "iopub.status.idle": "2022-11-19T13:01:47.856097Z",
     "shell.execute_reply": "2022-11-19T13:01:47.854595Z",
     "shell.execute_reply.started": "2022-11-19T13:01:47.847529Z"
    }
   },
   "outputs": [],
   "source": [
    "               ,\n",
    "               "
   ]
  }
 ],
 "metadata": {
  "kernelspec": {
   "display_name": "Python 3 (ipykernel)",
   "language": "python",
   "name": "python3"
  },
  "language_info": {
   "codemirror_mode": {
    "name": "ipython",
    "version": 3
   },
   "file_extension": ".py",
   "mimetype": "text/x-python",
   "name": "python",
   "nbconvert_exporter": "python",
   "pygments_lexer": "ipython3",
   "version": "3.9.12"
  }
 },
 "nbformat": 4,
 "nbformat_minor": 4
}
