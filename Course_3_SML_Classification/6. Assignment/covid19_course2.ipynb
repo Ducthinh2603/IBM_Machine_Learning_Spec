{
 "cells": [
  {
   "cell_type": "markdown",
   "id": "d457b8f9",
   "metadata": {},
   "source": [
    "# A. Introduction\n",
    "**This dataset contains an enormous number of anonymized patient-related information including pre-conditions. The raw dataset consists of 21 unique features and 1,048,576 unique patients. In the Boolean features, 1 means \"yes\" and 2 means \"no\". values as 97 and 99 are missing data.**\n",
    "* sex: female or male\n",
    "* age: of the patient.\n",
    "* classification: covid test findings. Values 1-3 mean that the patient was diagnosed with covid in different\n",
    "* degrees. 4 or higher means that the patient is not a carrier of covid or that the test is inconclusive.\n",
    "* patient type: hospitalized or not hospitalized.\n",
    "* pneumonia: whether the patient already have air sacs inflammation or not.\n",
    "* pregnancy: whether the patient is pregnant or not.\n",
    "* diabetes: whether the patient has diabetes or not.\n",
    "* copd: Indicates whether the patient has Chronic obstructive pulmonary disease or not.\n",
    "* asthma: whether the patient has asthma or not.\n",
    "* inmsupr: whether the patient is immunosuppressed or not.\n",
    "* hypertension: whether the patient has hypertension or not.\n",
    "* cardiovascular: whether the patient has heart or blood vessels related disease.\n",
    "* renal chronic: whether the patient has chronic renal disease or not.\n",
    "* other disease: whether the patient has other disease or not.\n",
    "* obesity: whether the patient is obese or not.\n",
    "* tobacco: whether the patient is a tobacco user.\n",
    "* usmr: Indicates whether the patient treated medical units of the first, second or third level.\n",
    "* medical unit: type of institution of the National Health System that provided the care.\n",
    "* intubed: whether the patient was connected to the ventilator.\n",
    "* icu: Indicates whether the patient had been admitted to an Intensive Care Unit.\n",
    "* death: indicates whether the patient died or recovered.\n",
    "\n",
    "**The main goal of this project is to build a machine learning model that, given a Covid-19 patient's current symptom, status, and medical history, will predict whether the patient is in high risk or not.**"
   ]
  },
  {
   "cell_type": "code",
   "execution_count": 1,
   "id": "78639734",
   "metadata": {},
   "outputs": [],
   "source": [
    "def warn(*args, **kwargs):\n",
    "    pass\n",
    "import warnings\n",
    "warnings.warn = warn"
   ]
  },
  {
   "cell_type": "code",
   "execution_count": 65,
   "id": "2c476f52",
   "metadata": {},
   "outputs": [
    {
     "name": "stdout",
     "output_type": "stream",
     "text": [
      "Collecting xgboost\n",
      "  Downloading xgboost-1.7.1-py3-none-win_amd64.whl (89.1 MB)\n",
      "Requirement already satisfied: scipy in c:\\users\\admin\\anaconda3\\lib\\site-packages (from xgboost) (1.7.1)\n",
      "Requirement already satisfied: numpy in c:\\users\\admin\\anaconda3\\lib\\site-packages (from xgboost) (1.21.5)\n",
      "Installing collected packages: xgboost\n",
      "Successfully installed xgboost-1.7.1\n"
     ]
    }
   ],
   "source": [
    "!pip install xgboost"
   ]
  },
  {
   "cell_type": "code",
   "execution_count": 66,
   "id": "31679bd6",
   "metadata": {},
   "outputs": [],
   "source": [
    "import numpy as np \n",
    "import pandas as pd \n",
    "import matplotlib.pyplot as plt\n",
    "import seaborn as sns\n",
    "from sklearn.linear_model import LogisticRegression\n",
    "from sklearn.neighbors import KNeighborsClassifier\n",
    "from sklearn.svm import SVC\n",
    "from sklearn.tree import DecisionTreeClassifier\n",
    "from sklearn.ensemble import BaggingClassifier, AdaBoostClassifier, StackingClassifier\n",
    "from xgboost import XGBClassifier\n",
    "from sklearn.model_selection import train_test_split\n",
    "from sklearn.metrics import confusion_matrix, accuracy_score, roc_auc_score, precision_recall_fscore_support\n",
    "from sklearn.metrics import classification_report, roc_curve, auc, precision_recall_curve\n",
    "from sklearn.model_selection import StratifiedShuffleSplit"
   ]
  },
  {
   "cell_type": "code",
   "execution_count": 3,
   "id": "748388e9",
   "metadata": {},
   "outputs": [],
   "source": [
    "df = pd.read_csv(\"covid19_data.csv\")"
   ]
  },
  {
   "cell_type": "code",
   "execution_count": 4,
   "id": "30f1971f",
   "metadata": {},
   "outputs": [
    {
     "data": {
      "text/html": [
       "<div>\n",
       "<style scoped>\n",
       "    .dataframe tbody tr th:only-of-type {\n",
       "        vertical-align: middle;\n",
       "    }\n",
       "\n",
       "    .dataframe tbody tr th {\n",
       "        vertical-align: top;\n",
       "    }\n",
       "\n",
       "    .dataframe thead th {\n",
       "        text-align: right;\n",
       "    }\n",
       "</style>\n",
       "<table border=\"1\" class=\"dataframe\">\n",
       "  <thead>\n",
       "    <tr style=\"text-align: right;\">\n",
       "      <th></th>\n",
       "      <th>USMER</th>\n",
       "      <th>MEDICAL_UNIT</th>\n",
       "      <th>SEX</th>\n",
       "      <th>PATIENT_TYPE</th>\n",
       "      <th>DATE_DIED</th>\n",
       "      <th>INTUBED</th>\n",
       "      <th>PNEUMONIA</th>\n",
       "      <th>AGE</th>\n",
       "      <th>PREGNANT</th>\n",
       "      <th>DIABETES</th>\n",
       "      <th>...</th>\n",
       "      <th>ASTHMA</th>\n",
       "      <th>INMSUPR</th>\n",
       "      <th>HIPERTENSION</th>\n",
       "      <th>OTHER_DISEASE</th>\n",
       "      <th>CARDIOVASCULAR</th>\n",
       "      <th>OBESITY</th>\n",
       "      <th>RENAL_CHRONIC</th>\n",
       "      <th>TOBACCO</th>\n",
       "      <th>CLASIFFICATION_FINAL</th>\n",
       "      <th>ICU</th>\n",
       "    </tr>\n",
       "  </thead>\n",
       "  <tbody>\n",
       "    <tr>\n",
       "      <th>0</th>\n",
       "      <td>2</td>\n",
       "      <td>1</td>\n",
       "      <td>1</td>\n",
       "      <td>1</td>\n",
       "      <td>03/05/2020</td>\n",
       "      <td>97</td>\n",
       "      <td>1</td>\n",
       "      <td>65</td>\n",
       "      <td>2</td>\n",
       "      <td>2</td>\n",
       "      <td>...</td>\n",
       "      <td>2</td>\n",
       "      <td>2</td>\n",
       "      <td>1</td>\n",
       "      <td>2</td>\n",
       "      <td>2</td>\n",
       "      <td>2</td>\n",
       "      <td>2</td>\n",
       "      <td>2</td>\n",
       "      <td>3</td>\n",
       "      <td>97</td>\n",
       "    </tr>\n",
       "    <tr>\n",
       "      <th>1</th>\n",
       "      <td>2</td>\n",
       "      <td>1</td>\n",
       "      <td>2</td>\n",
       "      <td>1</td>\n",
       "      <td>03/06/2020</td>\n",
       "      <td>97</td>\n",
       "      <td>1</td>\n",
       "      <td>72</td>\n",
       "      <td>97</td>\n",
       "      <td>2</td>\n",
       "      <td>...</td>\n",
       "      <td>2</td>\n",
       "      <td>2</td>\n",
       "      <td>1</td>\n",
       "      <td>2</td>\n",
       "      <td>2</td>\n",
       "      <td>1</td>\n",
       "      <td>1</td>\n",
       "      <td>2</td>\n",
       "      <td>5</td>\n",
       "      <td>97</td>\n",
       "    </tr>\n",
       "    <tr>\n",
       "      <th>2</th>\n",
       "      <td>2</td>\n",
       "      <td>1</td>\n",
       "      <td>2</td>\n",
       "      <td>2</td>\n",
       "      <td>09/06/2020</td>\n",
       "      <td>1</td>\n",
       "      <td>2</td>\n",
       "      <td>55</td>\n",
       "      <td>97</td>\n",
       "      <td>1</td>\n",
       "      <td>...</td>\n",
       "      <td>2</td>\n",
       "      <td>2</td>\n",
       "      <td>2</td>\n",
       "      <td>2</td>\n",
       "      <td>2</td>\n",
       "      <td>2</td>\n",
       "      <td>2</td>\n",
       "      <td>2</td>\n",
       "      <td>3</td>\n",
       "      <td>2</td>\n",
       "    </tr>\n",
       "    <tr>\n",
       "      <th>3</th>\n",
       "      <td>2</td>\n",
       "      <td>1</td>\n",
       "      <td>1</td>\n",
       "      <td>1</td>\n",
       "      <td>12/06/2020</td>\n",
       "      <td>97</td>\n",
       "      <td>2</td>\n",
       "      <td>53</td>\n",
       "      <td>2</td>\n",
       "      <td>2</td>\n",
       "      <td>...</td>\n",
       "      <td>2</td>\n",
       "      <td>2</td>\n",
       "      <td>2</td>\n",
       "      <td>2</td>\n",
       "      <td>2</td>\n",
       "      <td>2</td>\n",
       "      <td>2</td>\n",
       "      <td>2</td>\n",
       "      <td>7</td>\n",
       "      <td>97</td>\n",
       "    </tr>\n",
       "    <tr>\n",
       "      <th>4</th>\n",
       "      <td>2</td>\n",
       "      <td>1</td>\n",
       "      <td>2</td>\n",
       "      <td>1</td>\n",
       "      <td>21/06/2020</td>\n",
       "      <td>97</td>\n",
       "      <td>2</td>\n",
       "      <td>68</td>\n",
       "      <td>97</td>\n",
       "      <td>1</td>\n",
       "      <td>...</td>\n",
       "      <td>2</td>\n",
       "      <td>2</td>\n",
       "      <td>1</td>\n",
       "      <td>2</td>\n",
       "      <td>2</td>\n",
       "      <td>2</td>\n",
       "      <td>2</td>\n",
       "      <td>2</td>\n",
       "      <td>3</td>\n",
       "      <td>97</td>\n",
       "    </tr>\n",
       "  </tbody>\n",
       "</table>\n",
       "<p>5 rows × 21 columns</p>\n",
       "</div>"
      ],
      "text/plain": [
       "   USMER  MEDICAL_UNIT  SEX  PATIENT_TYPE   DATE_DIED  INTUBED  PNEUMONIA  \\\n",
       "0      2             1    1             1  03/05/2020       97          1   \n",
       "1      2             1    2             1  03/06/2020       97          1   \n",
       "2      2             1    2             2  09/06/2020        1          2   \n",
       "3      2             1    1             1  12/06/2020       97          2   \n",
       "4      2             1    2             1  21/06/2020       97          2   \n",
       "\n",
       "   AGE  PREGNANT  DIABETES  ...  ASTHMA  INMSUPR  HIPERTENSION  OTHER_DISEASE  \\\n",
       "0   65         2         2  ...       2        2             1              2   \n",
       "1   72        97         2  ...       2        2             1              2   \n",
       "2   55        97         1  ...       2        2             2              2   \n",
       "3   53         2         2  ...       2        2             2              2   \n",
       "4   68        97         1  ...       2        2             1              2   \n",
       "\n",
       "   CARDIOVASCULAR  OBESITY  RENAL_CHRONIC  TOBACCO  CLASIFFICATION_FINAL  ICU  \n",
       "0               2        2              2        2                     3   97  \n",
       "1               2        1              1        2                     5   97  \n",
       "2               2        2              2        2                     3    2  \n",
       "3               2        2              2        2                     7   97  \n",
       "4               2        2              2        2                     3   97  \n",
       "\n",
       "[5 rows x 21 columns]"
      ]
     },
     "execution_count": 4,
     "metadata": {},
     "output_type": "execute_result"
    }
   ],
   "source": [
    "df.head()"
   ]
  },
  {
   "cell_type": "code",
   "execution_count": 5,
   "id": "cf399a4f",
   "metadata": {},
   "outputs": [
    {
     "name": "stdout",
     "output_type": "stream",
     "text": [
      "<class 'pandas.core.frame.DataFrame'>\n",
      "RangeIndex: 1048575 entries, 0 to 1048574\n",
      "Data columns (total 21 columns):\n",
      " #   Column                Non-Null Count    Dtype \n",
      "---  ------                --------------    ----- \n",
      " 0   USMER                 1048575 non-null  int64 \n",
      " 1   MEDICAL_UNIT          1048575 non-null  int64 \n",
      " 2   SEX                   1048575 non-null  int64 \n",
      " 3   PATIENT_TYPE          1048575 non-null  int64 \n",
      " 4   DATE_DIED             1048575 non-null  object\n",
      " 5   INTUBED               1048575 non-null  int64 \n",
      " 6   PNEUMONIA             1048575 non-null  int64 \n",
      " 7   AGE                   1048575 non-null  int64 \n",
      " 8   PREGNANT              1048575 non-null  int64 \n",
      " 9   DIABETES              1048575 non-null  int64 \n",
      " 10  COPD                  1048575 non-null  int64 \n",
      " 11  ASTHMA                1048575 non-null  int64 \n",
      " 12  INMSUPR               1048575 non-null  int64 \n",
      " 13  HIPERTENSION          1048575 non-null  int64 \n",
      " 14  OTHER_DISEASE         1048575 non-null  int64 \n",
      " 15  CARDIOVASCULAR        1048575 non-null  int64 \n",
      " 16  OBESITY               1048575 non-null  int64 \n",
      " 17  RENAL_CHRONIC         1048575 non-null  int64 \n",
      " 18  TOBACCO               1048575 non-null  int64 \n",
      " 19  CLASIFFICATION_FINAL  1048575 non-null  int64 \n",
      " 20  ICU                   1048575 non-null  int64 \n",
      "dtypes: int64(20), object(1)\n",
      "memory usage: 168.0+ MB\n"
     ]
    }
   ],
   "source": [
    "df.info()"
   ]
  },
  {
   "cell_type": "markdown",
   "id": "bae104d7",
   "metadata": {},
   "source": [
    "# B. Data Processing\n",
    "1. Description already stated: _In the Boolean features, 1 means \"yes\" and 2 means \"no\". values as 97 and 99 are missing data._, we will eliminate all \"missing data\""
   ]
  },
  {
   "cell_type": "code",
   "execution_count": 6,
   "id": "a8ce3e8c",
   "metadata": {},
   "outputs": [
    {
     "data": {
      "text/plain": [
       "USMER                     2\n",
       "MEDICAL_UNIT             13\n",
       "SEX                       2\n",
       "PATIENT_TYPE              2\n",
       "DATE_DIED               401\n",
       "INTUBED                   4\n",
       "PNEUMONIA                 3\n",
       "AGE                     121\n",
       "PREGNANT                  4\n",
       "DIABETES                  3\n",
       "COPD                      3\n",
       "ASTHMA                    3\n",
       "INMSUPR                   3\n",
       "HIPERTENSION              3\n",
       "OTHER_DISEASE             3\n",
       "CARDIOVASCULAR            3\n",
       "OBESITY                   3\n",
       "RENAL_CHRONIC             3\n",
       "TOBACCO                   3\n",
       "CLASIFFICATION_FINAL      7\n",
       "ICU                       4\n",
       "dtype: int64"
      ]
     },
     "execution_count": 6,
     "metadata": {},
     "output_type": "execute_result"
    }
   ],
   "source": [
    "df.nunique()"
   ]
  },
  {
   "cell_type": "markdown",
   "id": "6bdd5525",
   "metadata": {},
   "source": [
    "First, look into SEX columns:"
   ]
  },
  {
   "cell_type": "code",
   "execution_count": 7,
   "id": "44f0ec50",
   "metadata": {},
   "outputs": [
    {
     "data": {
      "image/png": "[encoded data removed]",
      "text/plain": [
       "<Figure size 576x360 with 1 Axes>"
      ]
     },
     "metadata": {
      "needs_background": "light"
     },
     "output_type": "display_data"
    }
   ],
   "source": [
    "plt.figure(figsize = (8,5))\n",
    "ax = sns.countplot(df.SEX, hue = df.PREGNANT)\n",
    "for bars in ax.containers:\n",
    "    ax.bar_label(bars)\n",
    "plt.title(\"PREGNANCIES - SEX\", fontsize = 20);"
   ]
  },
  {
   "cell_type": "markdown",
   "id": "5e730a64",
   "metadata": {},
   "source": [
    "**In pregnancies, 98 means null values for female and 97 means null values for males. We will convert 97 to 2 because men can't birth.**"
   ]
  },
  {
   "cell_type": "code",
   "execution_count": 8,
   "id": "f1acb3e9",
   "metadata": {},
   "outputs": [],
   "source": [
    "df.PREGNANT = df.PREGNANT.replace(97, 2)"
   ]
  },
  {
   "cell_type": "markdown",
   "id": "9f407175",
   "metadata": {},
   "source": [
    "Moreover, we look into INTUBED and ICU:"
   ]
  },
  {
   "cell_type": "code",
   "execution_count": 9,
   "id": "2d7387f4",
   "metadata": {},
   "outputs": [
    {
     "data": {
      "text/plain": [
       "97    0.809235\n",
       "2     0.151682\n",
       "1     0.032097\n",
       "99    0.006986\n",
       "Name: INTUBED, dtype: float64"
      ]
     },
     "execution_count": 9,
     "metadata": {},
     "output_type": "execute_result"
    }
   ],
   "source": [
    "df.INTUBED.value_counts(normalize=True)"
   ]
  },
  {
   "cell_type": "code",
   "execution_count": 10,
   "id": "3d51d686",
   "metadata": {},
   "outputs": [
    {
     "data": {
      "text/plain": [
       "97    0.809235\n",
       "2     0.167546\n",
       "1     0.016077\n",
       "99    0.007141\n",
       "Name: ICU, dtype: float64"
      ]
     },
     "execution_count": 10,
     "metadata": {},
     "output_type": "execute_result"
    }
   ],
   "source": [
    "df.ICU.value_counts(normalize=True)"
   ]
  },
  {
   "cell_type": "markdown",
   "id": "c4b2feca",
   "metadata": {},
   "source": [
    "Most of them (**80.9%**) are missing data. So they should be drop. "
   ]
  },
  {
   "cell_type": "code",
   "execution_count": 11,
   "id": "315ff769",
   "metadata": {},
   "outputs": [],
   "source": [
    "df.drop(\"INTUBED\", axis = 1, inplace = True)\n",
    "df.drop(\"ICU\", axis = 1, inplace = True)"
   ]
  },
  {
   "cell_type": "markdown",
   "id": "94931448",
   "metadata": {},
   "source": [
    "The other ones that still have missing value are:"
   ]
  },
  {
   "cell_type": "code",
   "execution_count": 12,
   "id": "95db0335",
   "metadata": {},
   "outputs": [],
   "source": [
    "contains_missing_value_cols = df.loc[:, df.nunique() == 3].columns"
   ]
  },
  {
   "cell_type": "code",
   "execution_count": 13,
   "id": "d7e7f3b0",
   "metadata": {},
   "outputs": [],
   "source": [
    "for col in contains_missing_value_cols:\n",
    "    df = df[(df[col] == 1) | (df[col] == 2)]"
   ]
  },
  {
   "cell_type": "markdown",
   "id": "f47c941c",
   "metadata": {},
   "source": [
    "With the objective: predict whether the patient is in high risk or not given the current status of the patients, DATE_DIED doesn't tell us a lot of information. Therefore, it would be dropped either."
   ]
  },
  {
   "cell_type": "code",
   "execution_count": 14,
   "id": "91dfbd82",
   "metadata": {},
   "outputs": [],
   "source": [
    "df.drop(\"DATE_DIED\", axis = 1, inplace = True)"
   ]
  },
  {
   "cell_type": "markdown",
   "id": "01fe2bd8",
   "metadata": {},
   "source": [
    "Now, look into target class CLASIFFICATION_FINAL:"
   ]
  },
  {
   "cell_type": "code",
   "execution_count": 15,
   "id": "c8cdc478",
   "metadata": {},
   "outputs": [
    {
     "data": {
      "text/plain": [
       "7    488706\n",
       "3    377378\n",
       "6    117342\n",
       "5     25245\n",
       "1      8417\n",
       "4      3088\n",
       "2      1801\n",
       "Name: CLASIFFICATION_FINAL, dtype: int64"
      ]
     },
     "execution_count": 15,
     "metadata": {},
     "output_type": "execute_result"
    }
   ],
   "source": [
    "df.CLASIFFICATION_FINAL.value_counts()"
   ]
  },
  {
   "cell_type": "markdown",
   "id": "bc85c3a4",
   "metadata": {},
   "source": [
    "We know that: **1-2-3 means COVID and 4-5-6-7 means not COVID**. So we convert like that:"
   ]
  },
  {
   "cell_type": "code",
   "execution_count": 16,
   "id": "636d4f67",
   "metadata": {},
   "outputs": [],
   "source": [
    "df.CLASIFFICATION_FINAL = df.CLASIFFICATION_FINAL.replace([1,2,3], 0)\n",
    "df.CLASIFFICATION_FINAL = df.CLASIFFICATION_FINAL.replace([4,5,6,7], 1)"
   ]
  },
  {
   "cell_type": "code",
   "execution_count": 17,
   "id": "eab82a70",
   "metadata": {},
   "outputs": [
    {
     "data": {
      "text/plain": [
       "1    0.620739\n",
       "0    0.379261\n",
       "Name: CLASIFFICATION_FINAL, dtype: float64"
      ]
     },
     "execution_count": 17,
     "metadata": {},
     "output_type": "execute_result"
    }
   ],
   "source": [
    "df.CLASIFFICATION_FINAL.value_counts(normalize=True)"
   ]
  },
  {
   "cell_type": "code",
   "execution_count": 30,
   "id": "d53a4623",
   "metadata": {},
   "outputs": [
    {
     "data": {
      "text/plain": [
       "(1021977, 18)"
      ]
     },
     "execution_count": 30,
     "metadata": {},
     "output_type": "execute_result"
    }
   ],
   "source": [
    "df.shape"
   ]
  },
  {
   "cell_type": "markdown",
   "id": "843f5688",
   "metadata": {},
   "source": [
    "This is a very huge dataset. For represtative manner, I'll pick 10.000 samples"
   ]
  },
  {
   "cell_type": "code",
   "execution_count": 31,
   "id": "029026f4",
   "metadata": {},
   "outputs": [
    {
     "data": {
      "text/plain": [
       "(10980, 18)"
      ]
     },
     "execution_count": 31,
     "metadata": {},
     "output_type": "execute_result"
    }
   ],
   "source": [
    "feature_cols = df.columns[df.columns != 'CLASIFFICATION_FINAL']\n",
    "\n",
    "strat_shuf_split = StratifiedShuffleSplit(n_splits=1, \n",
    "                                          test_size=1010997, \n",
    "                                          random_state=7)\n",
    "\n",
    "new_df_ind, _ = next(strat_shuf_split.split(df[feature_cols], df.CLASIFFICATION_FINAL))\n",
    "\n",
    "# Create the dataframes\n",
    "new_df = df.iloc[new_df_ind]\n",
    "new_df.shape"
   ]
  },
  {
   "cell_type": "code",
   "execution_count": 33,
   "id": "6e499ce1",
   "metadata": {},
   "outputs": [],
   "source": [
    "strat_shuf_split = StratifiedShuffleSplit(n_splits=1, \n",
    "                                          test_size=0.3, \n",
    "                                          random_state=7)\n",
    "train_idx, test_idx = next(strat_shuf_split.split(new_df[feature_cols], new_df.CLASIFFICATION_FINAL))\n",
    "train_set = new_df.iloc[train_idx]\n",
    "test_set = new_df.iloc[test_idx]\n",
    "X_train = train_set[feature_cols]\n",
    "y_train = train_set['CLASIFFICATION_FINAL']\n",
    "\n",
    "X_test  = test_set[feature_cols]\n",
    "y_test  = test_set['CLASIFFICATION_FINAL']"
   ]
  },
  {
   "cell_type": "code",
   "execution_count": 35,
   "id": "5c48ee0d",
   "metadata": {},
   "outputs": [
    {
     "data": {
      "text/plain": [
       "1    0.620739\n",
       "0    0.379261\n",
       "Name: CLASIFFICATION_FINAL, dtype: float64"
      ]
     },
     "execution_count": 35,
     "metadata": {},
     "output_type": "execute_result"
    }
   ],
   "source": [
    "y_train.value_counts(normalize=True)"
   ]
  },
  {
   "cell_type": "markdown",
   "id": "e4948145",
   "metadata": {},
   "source": [
    "# C. Building Model"
   ]
  },
  {
   "cell_type": "code",
   "execution_count": 45,
   "id": "95bb16b5",
   "metadata": {},
   "outputs": [],
   "source": [
    "from sklearn.model_selection import GridSearchCV\n",
    "def evaluate_metrics(yt, yp):\n",
    "    results_pos = {}\n",
    "    results_pos['accuracy'] = accuracy_score(yt, yp)\n",
    "    precision, recall, f_beta, _ = precision_recall_fscore_support(yt, yp, average='binary')\n",
    "    results_pos['recall'] = recall\n",
    "    results_pos['precision'] = precision\n",
    "    results_pos['f1score'] = f_beta\n",
    "    results_pos['roc_auc_score'] = roc_auc_score(yt, yp)\n",
    "    return results_pos\n",
    "\n",
    "def general_report(model, name, param_grid = dict(), cv = 2, scoring = 'accuracy', n_jobs=-1):\n",
    "    # The grid search object\n",
    "    grid = GridSearchCV(model, \n",
    "                          param_grid=param_grid, \n",
    "                          scoring=scoring, cv = cv,\n",
    "                          n_jobs=n_jobs)\n",
    "\n",
    "    # Do the grid search\n",
    "    grid = grid.fit(X_train, y_train)\n",
    "    y_pred = grid.predict(X_test)\n",
    "    print(f\"___{name} Model Report___\")\n",
    "    print(evaluate_metrics(y_test, y_pred))\n",
    "    print(classification_report(y_test, y_pred))\n",
    "    cm = confusion_matrix(y_test, y_pred)\n",
    "    _, ax = plt.subplots()\n",
    "    sns.heatmap(cm, ax=ax, annot=True, fmt='d');\n",
    "    ax.set(title=name);\n",
    "    return grid\n",
    "    "
   ]
  },
  {
   "cell_type": "markdown",
   "id": "eecf93ce",
   "metadata": {},
   "source": [
    "## Logistic Regression Model"
   ]
  },
  {
   "cell_type": "code",
   "execution_count": 48,
   "id": "d14c2336",
   "metadata": {},
   "outputs": [
    {
     "name": "stdout",
     "output_type": "stream",
     "text": [
      "___Logistic Regression Model Report___\n",
      "{'accuracy': 0.651183970856102, 'recall': 0.9046454767726161, 'precision': 0.6597717546362339, 'f1score': 0.7630439265828005, 'roc_auc_score': 0.5704172139667724}\n",
      "              precision    recall  f1-score   support\n",
      "\n",
      "           0       0.60      0.24      0.34      1249\n",
      "           1       0.66      0.90      0.76      2045\n",
      "\n",
      "    accuracy                           0.65      3294\n",
      "   macro avg       0.63      0.57      0.55      3294\n",
      "weighted avg       0.64      0.65      0.60      3294\n",
      "\n"
     ]
    },
    {
     "data": {
      "image/png": "[encoded data removed]",
      "text/plain": [
       "<Figure size 432x288 with 2 Axes>"
      ]
     },
     "metadata": {
      "needs_background": "light"
     },
     "output_type": "display_data"
    }
   ],
   "source": [
    "lr = LogisticRegression(solver='liblinear')\n",
    "param_grid = {\n",
    "    \"penalty\": ['l1', 'l2', 'Lasso']\n",
    "}\n",
    "lr_model = general_report(lr, name=\"Logistic Regression\", cv=4)"
   ]
  },
  {
   "cell_type": "code",
   "execution_count": 39,
   "id": "336a3d43",
   "metadata": {},
   "outputs": [
    {
     "name": "stdout",
     "output_type": "stream",
     "text": [
      "___K Nearest Neighboor Model Report___\n",
      "{'accuracy': 0.5740740740740741, 'recall': 0.6987775061124695, 'precision': 0.64485559566787, 'f1score': 0.6707345693499179, 'roc_auc_score': 0.534336711422928}\n",
      "              precision    recall  f1-score   support\n",
      "\n",
      "           0       0.43      0.37      0.40      1249\n",
      "           1       0.64      0.70      0.67      2045\n",
      "\n",
      "    accuracy                           0.57      3294\n",
      "   macro avg       0.54      0.53      0.53      3294\n",
      "weighted avg       0.56      0.57      0.57      3294\n",
      "\n"
     ]
    },
    {
     "data": {
      "image/png": "[encoded data removed]",
      "text/plain": [
       "<Figure size 432x288 with 2 Axes>"
      ]
     },
     "metadata": {
      "needs_background": "light"
     },
     "output_type": "display_data"
    }
   ],
   "source": [
    "knn = KNeighborsClassifier(weights='distance')\n",
    "param_grid = {\n",
    "    \"n_neighbors\": [i for i in range(5, 49, 2)]\n",
    "}\n",
    "knn_model = general_report(knn, name=\"K Nearest Neighboor\", n_jobs=3, cv=3)"
   ]
  },
  {
   "cell_type": "markdown",
   "id": "7c5800b9",
   "metadata": {},
   "source": [
    "## Support Vector Machine"
   ]
  },
  {
   "cell_type": "code",
   "execution_count": 40,
   "id": "24c344de",
   "metadata": {},
   "outputs": [
    {
     "name": "stdout",
     "output_type": "stream",
     "text": [
      "___Support Vector Machine Model Report___\n",
      "{'accuracy': 0.655130540376442, 'recall': 0.9398533007334964, 'precision': 0.654855195911414, 'f1score': 0.7718875502008032, 'roc_auc_score': 0.5644022308311196}\n",
      "              precision    recall  f1-score   support\n",
      "\n",
      "           0       0.66      0.19      0.29      1249\n",
      "           1       0.65      0.94      0.77      2045\n",
      "\n",
      "    accuracy                           0.66      3294\n",
      "   macro avg       0.66      0.56      0.53      3294\n",
      "weighted avg       0.66      0.66      0.59      3294\n",
      "\n"
     ]
    },
    {
     "data": {
      "image/png": "[encoded data removed]",
      "text/plain": [
       "<Figure size 432x288 with 2 Axes>"
      ]
     },
     "metadata": {
      "needs_background": "light"
     },
     "output_type": "display_data"
    }
   ],
   "source": [
    "svc = SVC(probability=True)\n",
    "param_grid = {\n",
    "    'C': [1, 10, 100],\n",
    "    'kernel': ['poly', 'rbf', 'sigmoid']\n",
    "}\n",
    "svc_model = general_report(model=svc, name=\"Support Vector Machine\", param_grid=param_grid, cv=5)"
   ]
  },
  {
   "cell_type": "markdown",
   "id": "39ec4880",
   "metadata": {},
   "source": [
    "## Tree and Ensemble"
   ]
  },
  {
   "cell_type": "code",
   "execution_count": 59,
   "id": "c900bb01",
   "metadata": {},
   "outputs": [
    {
     "name": "stdout",
     "output_type": "stream",
     "text": [
      "___Random Forest Classifier Model Report___\n",
      "{'accuracy': 0.6523982999392836, 'recall': 0.9261613691931541, 'precision': 0.6558171745152355, 'f1score': 0.7678897222785324, 'roc_auc_score': 0.5651623499288428}\n",
      "              precision    recall  f1-score   support\n",
      "\n",
      "           0       0.63      0.20      0.31      1249\n",
      "           1       0.66      0.93      0.77      2045\n",
      "\n",
      "    accuracy                           0.65      3294\n",
      "   macro avg       0.64      0.57      0.54      3294\n",
      "weighted avg       0.65      0.65      0.59      3294\n",
      "\n"
     ]
    },
    {
     "data": {
      "image/png": "[encoded data removed]",
      "text/plain": [
       "<Figure size 432x288 with 2 Axes>"
      ]
     },
     "metadata": {
      "needs_background": "light"
     },
     "output_type": "display_data"
    }
   ],
   "source": [
    "random_forest = RandomForestClassifier()\n",
    "param_grid = {'n_estimators': [2*n+1 for n in range(20)],\n",
    "             'max_depth' : [2*n+1 for n in range(10) ],\n",
    "             'max_features':[\"auto\", \"sqrt\", \"log2\"]}\n",
    "rf_model = general_report(model=random_forest, name= \"Random Forest Classifier\", param_grid=param_grid)"
   ]
  },
  {
   "cell_type": "code",
   "execution_count": 50,
   "id": "b1fee36f",
   "metadata": {},
   "outputs": [
    {
     "name": "stdout",
     "output_type": "stream",
     "text": [
      "___AdaBoost Classifier Model Report___\n",
      "{'accuracy': 0.6514875531268974, 'recall': 0.9129584352078239, 'precision': 0.6580895311949242, 'f1score': 0.7648504711183941, 'roc_auc_score': 0.5681685690850969}\n",
      "              precision    recall  f1-score   support\n",
      "\n",
      "           0       0.61      0.22      0.33      1249\n",
      "           1       0.66      0.91      0.76      2045\n",
      "\n",
      "    accuracy                           0.65      3294\n",
      "   macro avg       0.63      0.57      0.55      3294\n",
      "weighted avg       0.64      0.65      0.60      3294\n",
      "\n"
     ]
    },
    {
     "data": {
      "image/png": "[encoded data removed]",
      "text/plain": [
       "<Figure size 432x288 with 2 Axes>"
      ]
     },
     "metadata": {
      "needs_background": "light"
     },
     "output_type": "display_data"
    }
   ],
   "source": [
    "tree = AdaBoostClassifier()\n",
    "param_grid = {'learning_rate': [0.1*(n+1) for n in range(10)],\n",
    "             'n_estimators' : [2*n+1 for n in range(10)],\n",
    "              'algorithm':['SAMME', 'SAMME.R']}                \n",
    "tree_model = general_report(model=tree, name = \"AdaBoost Classifier\", param_grid=param_grid)"
   ]
  },
  {
   "cell_type": "code",
   "execution_count": 58,
   "id": "54fab615",
   "metadata": {},
   "outputs": [
    {
     "name": "stdout",
     "output_type": "stream",
     "text": [
      "___Bagging Classifier Model Report___\n",
      "{'accuracy': 0.6517911353976927, 'recall': 0.9114914425427872, 'precision': 0.6586572438162545, 'f1score': 0.7647179487179487, 'roc_auc_score': 0.5690363537773984}\n",
      "              precision    recall  f1-score   support\n",
      "\n",
      "           0       0.61      0.23      0.33      1249\n",
      "           1       0.66      0.91      0.76      2045\n",
      "\n",
      "    accuracy                           0.65      3294\n",
      "   macro avg       0.63      0.57      0.55      3294\n",
      "weighted avg       0.64      0.65      0.60      3294\n",
      "\n"
     ]
    },
    {
     "data": {
      "image/png": "[encoded data removed]",
      "text/plain": [
       "<Figure size 432x288 with 2 Axes>"
      ]
     },
     "metadata": {
      "needs_background": "light"
     },
     "output_type": "display_data"
    }
   ],
   "source": [
    "bag = BaggingClassifier(base_estimator=DecisionTreeClassifier(random_state=7),n_estimators=10,random_state=7,bootstrap=True)\n",
    "param_grid = {'n_estimators': [2*n+1 for n in range(20)],\n",
    "     'base_estimator__max_depth' : [2*n+1 for n in range(10) ] }\n",
    "bag_model = general_report(model=bag, name = \"Bagging Classifier\", param_grid=param_grid, scoring='accuracy', cv=3)"
   ]
  },
  {
   "cell_type": "code",
   "execution_count": 67,
   "id": "30a90db6",
   "metadata": {},
   "outputs": [
    {
     "name": "stdout",
     "output_type": "stream",
     "text": [
      "___Stacking Classifier Model Report___\n",
      "{'accuracy': 0.6569520340012144, 'recall': 0.9315403422982885, 'precision': 0.6580310880829016, 'f1score': 0.7712550607287448, 'roc_auc_score': 0.56945311750623}\n",
      "              precision    recall  f1-score   support\n",
      "\n",
      "           0       0.65      0.21      0.31      1249\n",
      "           1       0.66      0.93      0.77      2045\n",
      "\n",
      "    accuracy                           0.66      3294\n",
      "   macro avg       0.65      0.57      0.54      3294\n",
      "weighted avg       0.65      0.66      0.60      3294\n",
      "\n"
     ]
    },
    {
     "data": {
      "image/png": "[encoded data removed]",
      "text/plain": [
       "<Figure size 432x288 with 2 Axes>"
      ]
     },
     "metadata": {
      "needs_background": "light"
     },
     "output_type": "display_data"
    }
   ],
   "source": [
    "estimators = [('SVM',SVC(random_state=42)),('knn',KNeighborsClassifier()),('dt',DecisionTreeClassifier())]\n",
    "stacking = StackingClassifier( estimators=estimators, final_estimator= LogisticRegression())\n",
    "param_grid = {\n",
    "    'dt__max_depth': [n for n in range(10)],\n",
    "    'dt__random_state':[0],\n",
    "    'SVM__C':[0.01,0.1,1],\n",
    "    'knn__n_neighbors':[5,7,9] \n",
    "}\n",
    "stacking_model = general_report(model=stacking, name = \"Stacking Classifier\", param_grid=param_grid, cv=3)"
   ]
  },
  {
   "cell_type": "code",
   "execution_count": 68,
   "id": "797e9345",
   "metadata": {},
   "outputs": [
    {
     "name": "stdout",
     "output_type": "stream",
     "text": [
      "___XGB Classifier Model Report___\n",
      "{'accuracy': 0.6445051608986035, 'recall': 0.878239608801956, 'precision': 0.6607799852832965, 'f1score': 0.7541465462943523, 'roc_auc_score': 0.5700245281800013}\n",
      "              precision    recall  f1-score   support\n",
      "\n",
      "           0       0.57      0.26      0.36      1249\n",
      "           1       0.66      0.88      0.75      2045\n",
      "\n",
      "    accuracy                           0.64      3294\n",
      "   macro avg       0.61      0.57      0.56      3294\n",
      "weighted avg       0.63      0.64      0.60      3294\n",
      "\n"
     ]
    },
    {
     "data": {
      "image/png": "[encoded data removed]",
      "text/plain": [
       "<Figure size 432x288 with 2 Axes>"
      ]
     },
     "metadata": {
      "needs_background": "light"
     },
     "output_type": "display_data"
    }
   ],
   "source": [
    "xgb = XGBClassifier(objective='binary:logistic')\n",
    "param_grid = {'learning_rate': [0.1*(n+1) for n in range(5)],\n",
    "             'n_estimators' : [100, 200, 300],\n",
    "             'eval_metric': [\"error\", \"mlogloss\"]}\n",
    "xgb_model = general_report(model=xgb, name=\"XGB Classifier\", param_grid=param_grid, cv=3)"
   ]
  },
  {
   "cell_type": "markdown",
   "id": "45e1e19a",
   "metadata": {},
   "source": [
    "As we can see that the models above show approximately the same with each other. There may be several suggestions:\n",
    "- The mini data_set that we extract was too small to represent the population.\n",
    "- Those feature doesn't have enough predictive power to predict the risk of a patient.\n",
    "\n",
    "Let's look a bit to xgb model and linear regression model:"
   ]
  },
  {
   "cell_type": "code",
   "execution_count": 91,
   "id": "a01f1f3c",
   "metadata": {},
   "outputs": [
    {
     "data": {
      "text/html": [
       "<div>\n",
       "<style scoped>\n",
       "    .dataframe tbody tr th:only-of-type {\n",
       "        vertical-align: middle;\n",
       "    }\n",
       "\n",
       "    .dataframe tbody tr th {\n",
       "        vertical-align: top;\n",
       "    }\n",
       "\n",
       "    .dataframe thead th {\n",
       "        text-align: right;\n",
       "    }\n",
       "</style>\n",
       "<table border=\"1\" class=\"dataframe\">\n",
       "  <thead>\n",
       "    <tr style=\"text-align: right;\">\n",
       "      <th></th>\n",
       "      <th>feature</th>\n",
       "      <th>coef</th>\n",
       "    </tr>\n",
       "  </thead>\n",
       "  <tbody>\n",
       "    <tr>\n",
       "      <th>3</th>\n",
       "      <td>PATIENT_TYPE</td>\n",
       "      <td>-0.393952</td>\n",
       "    </tr>\n",
       "    <tr>\n",
       "      <th>15</th>\n",
       "      <td>RENAL_CHRONIC</td>\n",
       "      <td>-0.323330</td>\n",
       "    </tr>\n",
       "    <tr>\n",
       "      <th>9</th>\n",
       "      <td>ASTHMA</td>\n",
       "      <td>-0.295391</td>\n",
       "    </tr>\n",
       "    <tr>\n",
       "      <th>12</th>\n",
       "      <td>OTHER_DISEASE</td>\n",
       "      <td>-0.257647</td>\n",
       "    </tr>\n",
       "    <tr>\n",
       "      <th>8</th>\n",
       "      <td>COPD</td>\n",
       "      <td>-0.252616</td>\n",
       "    </tr>\n",
       "    <tr>\n",
       "      <th>2</th>\n",
       "      <td>SEX</td>\n",
       "      <td>-0.221830</td>\n",
       "    </tr>\n",
       "    <tr>\n",
       "      <th>16</th>\n",
       "      <td>TOBACCO</td>\n",
       "      <td>-0.174782</td>\n",
       "    </tr>\n",
       "    <tr>\n",
       "      <th>0</th>\n",
       "      <td>USMER</td>\n",
       "      <td>-0.101332</td>\n",
       "    </tr>\n",
       "    <tr>\n",
       "      <th>5</th>\n",
       "      <td>AGE</td>\n",
       "      <td>-0.009450</td>\n",
       "    </tr>\n",
       "    <tr>\n",
       "      <th>10</th>\n",
       "      <td>INMSUPR</td>\n",
       "      <td>0.021597</td>\n",
       "    </tr>\n",
       "    <tr>\n",
       "      <th>1</th>\n",
       "      <td>MEDICAL_UNIT</td>\n",
       "      <td>0.022689</td>\n",
       "    </tr>\n",
       "    <tr>\n",
       "      <th>7</th>\n",
       "      <td>DIABETES</td>\n",
       "      <td>0.085705</td>\n",
       "    </tr>\n",
       "    <tr>\n",
       "      <th>11</th>\n",
       "      <td>HIPERTENSION</td>\n",
       "      <td>0.123221</td>\n",
       "    </tr>\n",
       "    <tr>\n",
       "      <th>13</th>\n",
       "      <td>CARDIOVASCULAR</td>\n",
       "      <td>0.166897</td>\n",
       "    </tr>\n",
       "    <tr>\n",
       "      <th>6</th>\n",
       "      <td>PREGNANT</td>\n",
       "      <td>0.231315</td>\n",
       "    </tr>\n",
       "    <tr>\n",
       "      <th>14</th>\n",
       "      <td>OBESITY</td>\n",
       "      <td>0.397404</td>\n",
       "    </tr>\n",
       "    <tr>\n",
       "      <th>4</th>\n",
       "      <td>PNEUMONIA</td>\n",
       "      <td>0.654543</td>\n",
       "    </tr>\n",
       "  </tbody>\n",
       "</table>\n",
       "</div>"
      ],
      "text/plain": [
       "           feature      coef\n",
       "3     PATIENT_TYPE -0.393952\n",
       "15   RENAL_CHRONIC -0.323330\n",
       "9           ASTHMA -0.295391\n",
       "12   OTHER_DISEASE -0.257647\n",
       "8             COPD -0.252616\n",
       "2              SEX -0.221830\n",
       "16         TOBACCO -0.174782\n",
       "0            USMER -0.101332\n",
       "5              AGE -0.009450\n",
       "10         INMSUPR  0.021597\n",
       "1     MEDICAL_UNIT  0.022689\n",
       "7         DIABETES  0.085705\n",
       "11    HIPERTENSION  0.123221\n",
       "13  CARDIOVASCULAR  0.166897\n",
       "6         PREGNANT  0.231315\n",
       "14         OBESITY  0.397404\n",
       "4        PNEUMONIA  0.654543"
      ]
     },
     "execution_count": 91,
     "metadata": {},
     "output_type": "execute_result"
    }
   ],
   "source": [
    "coef = lr_model.best_estimator_.coef_.ravel()\n",
    "importance_feature = pd.DataFrame({\"feature\": feature_cols, \"coef\": coef})\n",
    "importance_feature.sort_values(by=[\"coef\"])"
   ]
  },
  {
   "cell_type": "code",
   "execution_count": 87,
   "id": "2249d4e4",
   "metadata": {},
   "outputs": [
    {
     "data": {
      "text/plain": [
       "(17,)"
      ]
     },
     "execution_count": 87,
     "metadata": {},
     "output_type": "execute_result"
    }
   ],
   "source": [
    "xgb_model.best_estimator_.feature_importances_.shape"
   ]
  },
  {
   "cell_type": "code",
   "execution_count": 90,
   "id": "bdbce4a0",
   "metadata": {},
   "outputs": [
    {
     "data": {
      "text/html": [
       "<div>\n",
       "<style scoped>\n",
       "    .dataframe tbody tr th:only-of-type {\n",
       "        vertical-align: middle;\n",
       "    }\n",
       "\n",
       "    .dataframe tbody tr th {\n",
       "        vertical-align: top;\n",
       "    }\n",
       "\n",
       "    .dataframe thead th {\n",
       "        text-align: right;\n",
       "    }\n",
       "</style>\n",
       "<table border=\"1\" class=\"dataframe\">\n",
       "  <thead>\n",
       "    <tr style=\"text-align: right;\">\n",
       "      <th></th>\n",
       "      <th>Feature_Names</th>\n",
       "      <th>Importances</th>\n",
       "    </tr>\n",
       "  </thead>\n",
       "  <tbody>\n",
       "    <tr>\n",
       "      <th>0</th>\n",
       "      <td>PATIENT_TYPE</td>\n",
       "      <td>0.247347</td>\n",
       "    </tr>\n",
       "    <tr>\n",
       "      <th>1</th>\n",
       "      <td>PNEUMONIA</td>\n",
       "      <td>0.157864</td>\n",
       "    </tr>\n",
       "    <tr>\n",
       "      <th>2</th>\n",
       "      <td>OBESITY</td>\n",
       "      <td>0.060100</td>\n",
       "    </tr>\n",
       "    <tr>\n",
       "      <th>3</th>\n",
       "      <td>PREGNANT</td>\n",
       "      <td>0.053396</td>\n",
       "    </tr>\n",
       "    <tr>\n",
       "      <th>4</th>\n",
       "      <td>OTHER_DISEASE</td>\n",
       "      <td>0.043980</td>\n",
       "    </tr>\n",
       "    <tr>\n",
       "      <th>5</th>\n",
       "      <td>AGE</td>\n",
       "      <td>0.041818</td>\n",
       "    </tr>\n",
       "    <tr>\n",
       "      <th>6</th>\n",
       "      <td>HIPERTENSION</td>\n",
       "      <td>0.041023</td>\n",
       "    </tr>\n",
       "    <tr>\n",
       "      <th>7</th>\n",
       "      <td>ASTHMA</td>\n",
       "      <td>0.040811</td>\n",
       "    </tr>\n",
       "    <tr>\n",
       "      <th>8</th>\n",
       "      <td>COPD</td>\n",
       "      <td>0.040597</td>\n",
       "    </tr>\n",
       "    <tr>\n",
       "      <th>9</th>\n",
       "      <td>RENAL_CHRONIC</td>\n",
       "      <td>0.037882</td>\n",
       "    </tr>\n",
       "    <tr>\n",
       "      <th>10</th>\n",
       "      <td>USMER</td>\n",
       "      <td>0.036455</td>\n",
       "    </tr>\n",
       "    <tr>\n",
       "      <th>11</th>\n",
       "      <td>SEX</td>\n",
       "      <td>0.035548</td>\n",
       "    </tr>\n",
       "    <tr>\n",
       "      <th>12</th>\n",
       "      <td>TOBACCO</td>\n",
       "      <td>0.035387</td>\n",
       "    </tr>\n",
       "    <tr>\n",
       "      <th>13</th>\n",
       "      <td>MEDICAL_UNIT</td>\n",
       "      <td>0.034313</td>\n",
       "    </tr>\n",
       "    <tr>\n",
       "      <th>14</th>\n",
       "      <td>DIABETES</td>\n",
       "      <td>0.033853</td>\n",
       "    </tr>\n",
       "    <tr>\n",
       "      <th>15</th>\n",
       "      <td>CARDIOVASCULAR</td>\n",
       "      <td>0.030136</td>\n",
       "    </tr>\n",
       "    <tr>\n",
       "      <th>16</th>\n",
       "      <td>INMSUPR</td>\n",
       "      <td>0.029490</td>\n",
       "    </tr>\n",
       "  </tbody>\n",
       "</table>\n",
       "</div>"
      ],
      "text/plain": [
       "     Feature_Names  Importances\n",
       "0     PATIENT_TYPE     0.247347\n",
       "1        PNEUMONIA     0.157864\n",
       "2          OBESITY     0.060100\n",
       "3         PREGNANT     0.053396\n",
       "4    OTHER_DISEASE     0.043980\n",
       "5              AGE     0.041818\n",
       "6     HIPERTENSION     0.041023\n",
       "7           ASTHMA     0.040811\n",
       "8             COPD     0.040597\n",
       "9    RENAL_CHRONIC     0.037882\n",
       "10           USMER     0.036455\n",
       "11             SEX     0.035548\n",
       "12         TOBACCO     0.035387\n",
       "13    MEDICAL_UNIT     0.034313\n",
       "14        DIABETES     0.033853\n",
       "15  CARDIOVASCULAR     0.030136\n",
       "16         INMSUPR     0.029490"
      ]
     },
     "execution_count": 90,
     "metadata": {},
     "output_type": "execute_result"
    }
   ],
   "source": [
    "df_importances = pd.DataFrame(feature_cols, xgb_model.best_estimator_.feature_importances_)\n",
    "df_importances.columns = [\"Feature_Names\"]\n",
    "df_importances[\"Importances\"] = df_importances.index\n",
    "df_importances = df_importances.sort_values(by = \"Importances\", ascending = False)\n",
    "df_importances.index = np.arange(0,len(df_importances))\n",
    "df_importances"
   ]
  },
  {
   "cell_type": "markdown",
   "id": "f216f00e",
   "metadata": {},
   "source": [
    "We can see that 2 models indicate PNEUMONIA, OBESITY and PATIENT_TYPE are 3 most indicative powerful to estimate the risk.\n",
    "The 2 models that have a little bit more outstanding than the other are stacking model and SVC model. If we look into stacking model:"
   ]
  },
  {
   "cell_type": "code",
   "execution_count": 92,
   "id": "bcaa51de",
   "metadata": {},
   "outputs": [
    {
     "data": {
      "text/plain": [
       "3"
      ]
     },
     "execution_count": 92,
     "metadata": {},
     "output_type": "execute_result"
    }
   ],
   "source": [
    "stacking_model.best_estimator_.final_estimator_.n_features_in_"
   ]
  },
  {
   "cell_type": "markdown",
   "id": "d0b4340c",
   "metadata": {},
   "source": [
    "**We can see it indicates 3 feature. Eventhough we cannot clarify but guessing the 3 above is quite resonable.**"
   ]
  }
 ],
 "metadata": {
  "kernelspec": {
   "display_name": "Python 3 (ipykernel)",
   "language": "python",
   "name": "python3"
  },
  "language_info": {
   "codemirror_mode": {
    "name": "ipython",
    "version": 3
   },
   "file_extension": ".py",
   "mimetype": "text/x-python",
   "name": "python",
   "nbconvert_exporter": "python",
   "pygments_lexer": "ipython3",
   "version": "3.9.7"
  }
 },
 "nbformat": 4,
 "nbformat_minor": 5
}
