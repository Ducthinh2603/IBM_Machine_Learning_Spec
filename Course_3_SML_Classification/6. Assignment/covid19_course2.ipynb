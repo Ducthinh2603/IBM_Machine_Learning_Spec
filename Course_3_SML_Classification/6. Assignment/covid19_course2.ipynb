{
 "cells": [
  {
   "cell_type": "markdown",
   "id": "bd2cf073",
   "metadata": {},
   "source": [
    "The grading will center around 5 main points:\n",
    "\n",
    "- [] Does the report include a section describing the data?\n",
    "\n",
    "- [] Does the report include a paragraph detailing the main objective(s) of this analysis?  \n",
    "\n",
    "- [] Does the report include a section with variations of classifier models and specifies which one is the model that best suits the main objective(s) of this analysis?\n",
    "\n",
    "- [] Does the report include a clear and well presented section with key findings related to the main objective(s) of the analysis?\n",
    "\n",
    "- [] Does the report highlight possible flaws in the model and a plan of action to revisit this analysis with additional data or different predictive modeling techniques? "
   ]
  },
  {
   "cell_type": "markdown",
   "id": "d457b8f9",
   "metadata": {},
   "source": [
    "# A. Introduction\n",
    "**This dataset contains an enormous number of anonymized patient-related information including pre-conditions. The raw dataset consists of 21 unique features and 1,048,576 unique patients. In the Boolean features, 1 means \"yes\" and 2 means \"no\". values as 97 and 99 are missing data.**\n",
    "* sex: female or male\n",
    "* age: of the patient.\n",
    "* classification: covid test findings. Values 1-3 mean that the patient was diagnosed with covid in different\n",
    "* degrees. 4 or higher means that the patient is not a carrier of covid or that the test is inconclusive.\n",
    "* patient type: hospitalized or not hospitalized.\n",
    "* pneumonia: whether the patient already have air sacs inflammation or not.\n",
    "* pregnancy: whether the patient is pregnant or not.\n",
    "* diabetes: whether the patient has diabetes or not.\n",
    "* copd: Indicates whether the patient has Chronic obstructive pulmonary disease or not.\n",
    "* asthma: whether the patient has asthma or not.\n",
    "* inmsupr: whether the patient is immunosuppressed or not.\n",
    "* hypertension: whether the patient has hypertension or not.\n",
    "* cardiovascular: whether the patient has heart or blood vessels related disease.\n",
    "* renal chronic: whether the patient has chronic renal disease or not.\n",
    "* other disease: whether the patient has other disease or not.\n",
    "* obesity: whether the patient is obese or not.\n",
    "* tobacco: whether the patient is a tobacco user.\n",
    "* usmr: Indicates whether the patient treated medical units of the first, second or third level.\n",
    "* medical unit: type of institution of the National Health System that provided the care.\n",
    "* intubed: whether the patient was connected to the ventilator.\n",
    "* icu: Indicates whether the patient had been admitted to an Intensive Care Unit.\n",
    "* death: indicates whether the patient died or recovered.\n",
    "\n",
    "**The main goal of this project is to build a machine learning model that, given a Covid-19 patient's current symptom, status, and medical history, will predict whether the patient is in high risk or not.**"
   ]
  },
  {
   "cell_type": "code",
   "execution_count": 1,
   "id": "78639734",
   "metadata": {},
   "outputs": [],
   "source": [
    "def warn(*args, **kwargs):\n",
    "    pass\n",
    "import warnings\n",
    "warnings.warn = warn"
   ]
  },
  {
   "cell_type": "code",
   "execution_count": 2,
   "id": "31679bd6",
   "metadata": {},
   "outputs": [],
   "source": [
    "import numpy as np \n",
    "import pandas as pd \n",
    "import matplotlib.pyplot as plt\n",
    "import seaborn as sns\n",
    "from sklearn.linear_model import LogisticRegression\n",
    "from sklearn.neighbors import KNeighborsClassifier\n",
    "from sklearn.naive_bayes import MultinomialNB\n",
    "from sklearn.tree import DecisionTreeClassifier\n",
    "from sklearn.ensemble import RandomForestClassifier\n",
    "from sklearn import svm\n",
    "from sklearn.model_selection import train_test_split\n",
    "from sklearn.metrics import confusion_matrix, accuracy_score, roc_auc_score, precision_recall_fscore_support\n",
    "from sklearn.metrics import classification_report, roc_curve, auc, precision_recall_curve\n",
    "from sklearn.model_selection import StratifiedShuffleSplit"
   ]
  },
  {
   "cell_type": "code",
   "execution_count": 3,
   "id": "748388e9",
   "metadata": {},
   "outputs": [],
   "source": [
    "df = pd.read_csv(\"covid19_data.csv\")"
   ]
  },
  {
   "cell_type": "code",
   "execution_count": 4,
   "id": "30f1971f",
   "metadata": {},
   "outputs": [
    {
     "data": {
      "text/html": [
       "<div>\n",
       "<style scoped>\n",
       "    .dataframe tbody tr th:only-of-type {\n",
       "        vertical-align: middle;\n",
       "    }\n",
       "\n",
       "    .dataframe tbody tr th {\n",
       "        vertical-align: top;\n",
       "    }\n",
       "\n",
       "    .dataframe thead th {\n",
       "        text-align: right;\n",
       "    }\n",
       "</style>\n",
       "<table border=\"1\" class=\"dataframe\">\n",
       "  <thead>\n",
       "    <tr style=\"text-align: right;\">\n",
       "      <th></th>\n",
       "      <th>USMER</th>\n",
       "      <th>MEDICAL_UNIT</th>\n",
       "      <th>SEX</th>\n",
       "      <th>PATIENT_TYPE</th>\n",
       "      <th>DATE_DIED</th>\n",
       "      <th>INTUBED</th>\n",
       "      <th>PNEUMONIA</th>\n",
       "      <th>AGE</th>\n",
       "      <th>PREGNANT</th>\n",
       "      <th>DIABETES</th>\n",
       "      <th>...</th>\n",
       "      <th>ASTHMA</th>\n",
       "      <th>INMSUPR</th>\n",
       "      <th>HIPERTENSION</th>\n",
       "      <th>OTHER_DISEASE</th>\n",
       "      <th>CARDIOVASCULAR</th>\n",
       "      <th>OBESITY</th>\n",
       "      <th>RENAL_CHRONIC</th>\n",
       "      <th>TOBACCO</th>\n",
       "      <th>CLASIFFICATION_FINAL</th>\n",
       "      <th>ICU</th>\n",
       "    </tr>\n",
       "  </thead>\n",
       "  <tbody>\n",
       "    <tr>\n",
       "      <th>0</th>\n",
       "      <td>2</td>\n",
       "      <td>1</td>\n",
       "      <td>1</td>\n",
       "      <td>1</td>\n",
       "      <td>03/05/2020</td>\n",
       "      <td>97</td>\n",
       "      <td>1</td>\n",
       "      <td>65</td>\n",
       "      <td>2</td>\n",
       "      <td>2</td>\n",
       "      <td>...</td>\n",
       "      <td>2</td>\n",
       "      <td>2</td>\n",
       "      <td>1</td>\n",
       "      <td>2</td>\n",
       "      <td>2</td>\n",
       "      <td>2</td>\n",
       "      <td>2</td>\n",
       "      <td>2</td>\n",
       "      <td>3</td>\n",
       "      <td>97</td>\n",
       "    </tr>\n",
       "    <tr>\n",
       "      <th>1</th>\n",
       "      <td>2</td>\n",
       "      <td>1</td>\n",
       "      <td>2</td>\n",
       "      <td>1</td>\n",
       "      <td>03/06/2020</td>\n",
       "      <td>97</td>\n",
       "      <td>1</td>\n",
       "      <td>72</td>\n",
       "      <td>97</td>\n",
       "      <td>2</td>\n",
       "      <td>...</td>\n",
       "      <td>2</td>\n",
       "      <td>2</td>\n",
       "      <td>1</td>\n",
       "      <td>2</td>\n",
       "      <td>2</td>\n",
       "      <td>1</td>\n",
       "      <td>1</td>\n",
       "      <td>2</td>\n",
       "      <td>5</td>\n",
       "      <td>97</td>\n",
       "    </tr>\n",
       "    <tr>\n",
       "      <th>2</th>\n",
       "      <td>2</td>\n",
       "      <td>1</td>\n",
       "      <td>2</td>\n",
       "      <td>2</td>\n",
       "      <td>09/06/2020</td>\n",
       "      <td>1</td>\n",
       "      <td>2</td>\n",
       "      <td>55</td>\n",
       "      <td>97</td>\n",
       "      <td>1</td>\n",
       "      <td>...</td>\n",
       "      <td>2</td>\n",
       "      <td>2</td>\n",
       "      <td>2</td>\n",
       "      <td>2</td>\n",
       "      <td>2</td>\n",
       "      <td>2</td>\n",
       "      <td>2</td>\n",
       "      <td>2</td>\n",
       "      <td>3</td>\n",
       "      <td>2</td>\n",
       "    </tr>\n",
       "    <tr>\n",
       "      <th>3</th>\n",
       "      <td>2</td>\n",
       "      <td>1</td>\n",
       "      <td>1</td>\n",
       "      <td>1</td>\n",
       "      <td>12/06/2020</td>\n",
       "      <td>97</td>\n",
       "      <td>2</td>\n",
       "      <td>53</td>\n",
       "      <td>2</td>\n",
       "      <td>2</td>\n",
       "      <td>...</td>\n",
       "      <td>2</td>\n",
       "      <td>2</td>\n",
       "      <td>2</td>\n",
       "      <td>2</td>\n",
       "      <td>2</td>\n",
       "      <td>2</td>\n",
       "      <td>2</td>\n",
       "      <td>2</td>\n",
       "      <td>7</td>\n",
       "      <td>97</td>\n",
       "    </tr>\n",
       "    <tr>\n",
       "      <th>4</th>\n",
       "      <td>2</td>\n",
       "      <td>1</td>\n",
       "      <td>2</td>\n",
       "      <td>1</td>\n",
       "      <td>21/06/2020</td>\n",
       "      <td>97</td>\n",
       "      <td>2</td>\n",
       "      <td>68</td>\n",
       "      <td>97</td>\n",
       "      <td>1</td>\n",
       "      <td>...</td>\n",
       "      <td>2</td>\n",
       "      <td>2</td>\n",
       "      <td>1</td>\n",
       "      <td>2</td>\n",
       "      <td>2</td>\n",
       "      <td>2</td>\n",
       "      <td>2</td>\n",
       "      <td>2</td>\n",
       "      <td>3</td>\n",
       "      <td>97</td>\n",
       "    </tr>\n",
       "  </tbody>\n",
       "</table>\n",
       "<p>5 rows × 21 columns</p>\n",
       "</div>"
      ],
      "text/plain": [
       "   USMER  MEDICAL_UNIT  SEX  PATIENT_TYPE   DATE_DIED  INTUBED  PNEUMONIA  \\\n",
       "0      2             1    1             1  03/05/2020       97          1   \n",
       "1      2             1    2             1  03/06/2020       97          1   \n",
       "2      2             1    2             2  09/06/2020        1          2   \n",
       "3      2             1    1             1  12/06/2020       97          2   \n",
       "4      2             1    2             1  21/06/2020       97          2   \n",
       "\n",
       "   AGE  PREGNANT  DIABETES  ...  ASTHMA  INMSUPR  HIPERTENSION  OTHER_DISEASE  \\\n",
       "0   65         2         2  ...       2        2             1              2   \n",
       "1   72        97         2  ...       2        2             1              2   \n",
       "2   55        97         1  ...       2        2             2              2   \n",
       "3   53         2         2  ...       2        2             2              2   \n",
       "4   68        97         1  ...       2        2             1              2   \n",
       "\n",
       "   CARDIOVASCULAR  OBESITY  RENAL_CHRONIC  TOBACCO  CLASIFFICATION_FINAL  ICU  \n",
       "0               2        2              2        2                     3   97  \n",
       "1               2        1              1        2                     5   97  \n",
       "2               2        2              2        2                     3    2  \n",
       "3               2        2              2        2                     7   97  \n",
       "4               2        2              2        2                     3   97  \n",
       "\n",
       "[5 rows x 21 columns]"
      ]
     },
     "execution_count": 4,
     "metadata": {},
     "output_type": "execute_result"
    }
   ],
   "source": [
    "df.head()"
   ]
  },
  {
   "cell_type": "code",
   "execution_count": 5,
   "id": "cf399a4f",
   "metadata": {},
   "outputs": [
    {
     "name": "stdout",
     "output_type": "stream",
     "text": [
      "<class 'pandas.core.frame.DataFrame'>\n",
      "RangeIndex: 1048575 entries, 0 to 1048574\n",
      "Data columns (total 21 columns):\n",
      " #   Column                Non-Null Count    Dtype \n",
      "---  ------                --------------    ----- \n",
      " 0   USMER                 1048575 non-null  int64 \n",
      " 1   MEDICAL_UNIT          1048575 non-null  int64 \n",
      " 2   SEX                   1048575 non-null  int64 \n",
      " 3   PATIENT_TYPE          1048575 non-null  int64 \n",
      " 4   DATE_DIED             1048575 non-null  object\n",
      " 5   INTUBED               1048575 non-null  int64 \n",
      " 6   PNEUMONIA             1048575 non-null  int64 \n",
      " 7   AGE                   1048575 non-null  int64 \n",
      " 8   PREGNANT              1048575 non-null  int64 \n",
      " 9   DIABETES              1048575 non-null  int64 \n",
      " 10  COPD                  1048575 non-null  int64 \n",
      " 11  ASTHMA                1048575 non-null  int64 \n",
      " 12  INMSUPR               1048575 non-null  int64 \n",
      " 13  HIPERTENSION          1048575 non-null  int64 \n",
      " 14  OTHER_DISEASE         1048575 non-null  int64 \n",
      " 15  CARDIOVASCULAR        1048575 non-null  int64 \n",
      " 16  OBESITY               1048575 non-null  int64 \n",
      " 17  RENAL_CHRONIC         1048575 non-null  int64 \n",
      " 18  TOBACCO               1048575 non-null  int64 \n",
      " 19  CLASIFFICATION_FINAL  1048575 non-null  int64 \n",
      " 20  ICU                   1048575 non-null  int64 \n",
      "dtypes: int64(20), object(1)\n",
      "memory usage: 168.0+ MB\n"
     ]
    }
   ],
   "source": [
    "df.info()"
   ]
  },
  {
   "cell_type": "markdown",
   "id": "bae104d7",
   "metadata": {},
   "source": [
    "# B. Data Processing\n",
    "1. Description already stated: _In the Boolean features, 1 means \"yes\" and 2 means \"no\". values as 97 and 99 are missing data._, we will eliminate all \"missing data\""
   ]
  },
  {
   "cell_type": "code",
   "execution_count": 6,
   "id": "a8ce3e8c",
   "metadata": {},
   "outputs": [
    {
     "data": {
      "text/plain": [
       "USMER                     2\n",
       "MEDICAL_UNIT             13\n",
       "SEX                       2\n",
       "PATIENT_TYPE              2\n",
       "DATE_DIED               401\n",
       "INTUBED                   4\n",
       "PNEUMONIA                 3\n",
       "AGE                     121\n",
       "PREGNANT                  4\n",
       "DIABETES                  3\n",
       "COPD                      3\n",
       "ASTHMA                    3\n",
       "INMSUPR                   3\n",
       "HIPERTENSION              3\n",
       "OTHER_DISEASE             3\n",
       "CARDIOVASCULAR            3\n",
       "OBESITY                   3\n",
       "RENAL_CHRONIC             3\n",
       "TOBACCO                   3\n",
       "CLASIFFICATION_FINAL      7\n",
       "ICU                       4\n",
       "dtype: int64"
      ]
     },
     "execution_count": 6,
     "metadata": {},
     "output_type": "execute_result"
    }
   ],
   "source": [
    "df.nunique()"
   ]
  },
  {
   "cell_type": "markdown",
   "id": "6bdd5525",
   "metadata": {},
   "source": [
    "First, look into SEX columns:"
   ]
  },
  {
   "cell_type": "code",
   "execution_count": 7,
   "id": "44f0ec50",
   "metadata": {},
   "outputs": [
    {
     "data": {
      "image/png": "[encoded data removed]",
      "text/plain": [
       "<Figure size 576x360 with 1 Axes>"
      ]
     },
     "metadata": {
      "needs_background": "light"
     },
     "output_type": "display_data"
    }
   ],
   "source": [
    "plt.figure(figsize = (8,5))\n",
    "ax = sns.countplot(df.SEX, hue = df.PREGNANT)\n",
    "for bars in ax.containers:\n",
    "    ax.bar_label(bars)\n",
    "plt.title(\"PREGNANCIES - SEX\", fontsize = 20);"
   ]
  },
  {
   "cell_type": "markdown",
   "id": "5e730a64",
   "metadata": {},
   "source": [
    "**In pregnancies, 98 means null values for female and 97 means null values for males. We will convert 97 to 2 because men can't birth.**"
   ]
  },
  {
   "cell_type": "code",
   "execution_count": 8,
   "id": "f1acb3e9",
   "metadata": {},
   "outputs": [],
   "source": [
    "df.PREGNANT = df.PREGNANT.replace(97, 2)"
   ]
  },
  {
   "cell_type": "markdown",
   "id": "9f407175",
   "metadata": {},
   "source": [
    "Moreover, we look into INTUBED and ICU:"
   ]
  },
  {
   "cell_type": "code",
   "execution_count": 9,
   "id": "2d7387f4",
   "metadata": {},
   "outputs": [
    {
     "data": {
      "text/plain": [
       "97    0.809235\n",
       "2     0.151682\n",
       "1     0.032097\n",
       "99    0.006986\n",
       "Name: INTUBED, dtype: float64"
      ]
     },
     "execution_count": 9,
     "metadata": {},
     "output_type": "execute_result"
    }
   ],
   "source": [
    "df.INTUBED.value_counts(normalize=True)"
   ]
  },
  {
   "cell_type": "code",
   "execution_count": 10,
   "id": "3d51d686",
   "metadata": {},
   "outputs": [
    {
     "data": {
      "text/plain": [
       "97    0.809235\n",
       "2     0.167546\n",
       "1     0.016077\n",
       "99    0.007141\n",
       "Name: ICU, dtype: float64"
      ]
     },
     "execution_count": 10,
     "metadata": {},
     "output_type": "execute_result"
    }
   ],
   "source": [
    "df.ICU.value_counts(normalize=True)"
   ]
  },
  {
   "cell_type": "markdown",
   "id": "c4b2feca",
   "metadata": {},
   "source": [
    "Most of them (**80.9%**) are missing data. So they should be drop. "
   ]
  },
  {
   "cell_type": "code",
   "execution_count": 11,
   "id": "315ff769",
   "metadata": {},
   "outputs": [],
   "source": [
    "df.drop(\"INTUBED\", axis = 1, inplace = True)\n",
    "df.drop(\"ICU\", axis = 1, inplace = True)"
   ]
  },
  {
   "cell_type": "markdown",
   "id": "94931448",
   "metadata": {},
   "source": [
    "The other ones that still have missing value are:"
   ]
  },
  {
   "cell_type": "code",
   "execution_count": 12,
   "id": "95db0335",
   "metadata": {},
   "outputs": [],
   "source": [
    "contains_missing_value_cols = df.loc[:, df.nunique() == 3].columns"
   ]
  },
  {
   "cell_type": "code",
   "execution_count": 13,
   "id": "d7e7f3b0",
   "metadata": {},
   "outputs": [],
   "source": [
    "for col in contains_missing_value_cols:\n",
    "    df = df[(df[col] == 1) | (df[col] == 2)]"
   ]
  },
  {
   "cell_type": "markdown",
   "id": "f47c941c",
   "metadata": {},
   "source": [
    "With the objective: predict whether the patient is in high risk or not given the current status of the patients, DATE_DIED doesn't tell us a lot of information. Therefore, it would be dropped either."
   ]
  },
  {
   "cell_type": "code",
   "execution_count": 14,
   "id": "91dfbd82",
   "metadata": {},
   "outputs": [],
   "source": [
    "df.drop(\"DATE_DIED\", axis = 1, inplace = True)"
   ]
  },
  {
   "cell_type": "markdown",
   "id": "01fe2bd8",
   "metadata": {},
   "source": [
    "Now, look into target class CLASIFFICATION_FINAL:"
   ]
  },
  {
   "cell_type": "code",
   "execution_count": 15,
   "id": "c8cdc478",
   "metadata": {},
   "outputs": [
    {
     "data": {
      "text/plain": [
       "7    488706\n",
       "3    377378\n",
       "6    117342\n",
       "5     25245\n",
       "1      8417\n",
       "4      3088\n",
       "2      1801\n",
       "Name: CLASIFFICATION_FINAL, dtype: int64"
      ]
     },
     "execution_count": 15,
     "metadata": {},
     "output_type": "execute_result"
    }
   ],
   "source": [
    "df.CLASIFFICATION_FINAL.value_counts()"
   ]
  },
  {
   "cell_type": "markdown",
   "id": "bc85c3a4",
   "metadata": {},
   "source": [
    "We know that: **1-2-3 means COVID and 4-5-6-7 means not COVID**. So we convert like that:"
   ]
  },
  {
   "cell_type": "code",
   "execution_count": 16,
   "id": "636d4f67",
   "metadata": {},
   "outputs": [],
   "source": [
    "df.CLASIFFICATION_FINAL = df.CLASIFFICATION_FINAL.replace([1,2,3], 0)\n",
    "df.CLASIFFICATION_FINAL = df.CLASIFFICATION_FINAL.replace([4,5,6,7], 1)"
   ]
  },
  {
   "cell_type": "code",
   "execution_count": 17,
   "id": "eab82a70",
   "metadata": {},
   "outputs": [
    {
     "data": {
      "text/plain": [
       "1    0.620739\n",
       "0    0.379261\n",
       "Name: CLASIFFICATION_FINAL, dtype: float64"
      ]
     },
     "execution_count": 17,
     "metadata": {},
     "output_type": "execute_result"
    }
   ],
   "source": [
    "df.CLASIFFICATION_FINAL.value_counts(normalize=True)"
   ]
  },
  {
   "cell_type": "code",
   "execution_count": 18,
   "id": "029026f4",
   "metadata": {},
   "outputs": [],
   "source": [
    "feature_cols = df.columns[df.columns != 'CLASIFFICATION_FINAL']\n",
    "\n",
    "strat_shuf_split = StratifiedShuffleSplit(n_splits=1, \n",
    "                                          test_size=0.3, \n",
    "                                          random_state=7)\n",
    "\n",
    "train_idx, test_idx = next(strat_shuf_split.split(df[feature_cols], df.CLASIFFICATION_FINAL))\n",
    "\n",
    "# Create the dataframes\n",
    "train_set = df.iloc[train_idx]\n",
    "test_set = df.iloc[test_idx]\n",
    "X_train = train_set[feature_cols]\n",
    "y_train = train_set['CLASIFFICATION_FINAL']\n",
    "\n",
    "X_test  = test_set[feature_cols]\n",
    "y_test  = test_set['CLASIFFICATION_FINAL']"
   ]
  },
  {
   "cell_type": "code",
   "execution_count": 19,
   "id": "95bb16b5",
   "metadata": {},
   "outputs": [],
   "source": [
    "from sklearn.model_selection import GridSearchCV\n",
    "def evaluate_metrics(yt, yp):\n",
    "    results_pos = {}\n",
    "    results_pos['accuracy'] = accuracy_score(yt, yp)\n",
    "    precision, recall, f_beta, _ = precision_recall_fscore_support(yt, yp, average='binary')\n",
    "    results_pos['recall'] = recall\n",
    "    results_pos['precision'] = precision\n",
    "    results_pos['f1score'] = f_beta\n",
    "    results_pos['roc_auc_score'] = roc_auc_score(yt, yp)\n",
    "    return results_pos\n",
    "\n",
    "def general_report(model, name, param_grid = dict(), cv = 2, scoring = 'accuracy', n_jobs=-1):\n",
    "    # The grid search object\n",
    "    grid = GridSearchCV(model, \n",
    "                          param_grid=param_grid, \n",
    "                          scoring=scoring, cv = cv,\n",
    "                          n_jobs=n_jobs)\n",
    "\n",
    "    # Do the grid search\n",
    "    grid = grid.fit(X_train, y_train)\n",
    "    y_pred = grid.predict(X_test)\n",
    "    print(f\"___{name} Model Report___\")\n",
    "    print(evaluate_metrics(y_test, y_pred))\n",
    "    print(classification_report(y_test, y_pred))\n",
    "    cm = confusion_matrix(y_test, y_pred)\n",
    "    _, ax = plt.subplots()\n",
    "    sns.heatmap(cm, ax=ax, annot=True, fmt='d');\n",
    "    ax.set(title=name);\n",
    "    return grid\n",
    "    "
   ]
  },
  {
   "cell_type": "markdown",
   "id": "eecf93ce",
   "metadata": {},
   "source": [
    "## Logistic Regression Model"
   ]
  },
  {
   "cell_type": "code",
   "execution_count": 20,
   "id": "d14c2336",
   "metadata": {},
   "outputs": [
    {
     "name": "stdout",
     "output_type": "stream",
     "text": [
      "___Logistic Regression Model Report___\n",
      "{'accuracy': 0.659977038037274, 'recall': 0.909197908730263, 'precision': 0.6655102653056515, 'f1score': 0.7684986354057254, 'roc_auc_score': 0.5806363299875569}\n",
      "              precision    recall  f1-score   support\n",
      "\n",
      "           0       0.63      0.25      0.36    116279\n",
      "           1       0.67      0.91      0.77    190315\n",
      "\n",
      "    accuracy                           0.66    306594\n",
      "   macro avg       0.65      0.58      0.56    306594\n",
      "weighted avg       0.65      0.66      0.61    306594\n",
      "\n"
     ]
    },
    {
     "data": {
      "image/png": "[encoded data removed]",
      "text/plain": [
       "<Figure size 432x288 with 2 Axes>"
      ]
     },
     "metadata": {
      "needs_background": "light"
     },
     "output_type": "display_data"
    }
   ],
   "source": [
    "lr = LogisticRegression(solver='liblinear')\n",
    "param_grid = {\n",
    "    \"penalty\": ['l1', 'l2', 'Lasso']\n",
    "}\n",
    "lr_model = general_report(lr, name=\"Logistic Regression\", cv=4)"
   ]
  },
  {
   "cell_type": "code",
   "execution_count": 21,
   "id": "d5d287ed",
   "metadata": {},
   "outputs": [
    {
     "data": {
      "text/html": [
       "<div>\n",
       "<style scoped>\n",
       "    .dataframe tbody tr th:only-of-type {\n",
       "        vertical-align: middle;\n",
       "    }\n",
       "\n",
       "    .dataframe tbody tr th {\n",
       "        vertical-align: top;\n",
       "    }\n",
       "\n",
       "    .dataframe thead th {\n",
       "        text-align: right;\n",
       "    }\n",
       "</style>\n",
       "<table border=\"1\" class=\"dataframe\">\n",
       "  <thead>\n",
       "    <tr style=\"text-align: right;\">\n",
       "      <th></th>\n",
       "      <th>feature</th>\n",
       "      <th>coef</th>\n",
       "    </tr>\n",
       "  </thead>\n",
       "  <tbody>\n",
       "    <tr>\n",
       "      <th>3</th>\n",
       "      <td>PATIENT_TYPE</td>\n",
       "      <td>-0.458542</td>\n",
       "    </tr>\n",
       "    <tr>\n",
       "      <th>8</th>\n",
       "      <td>COPD</td>\n",
       "      <td>-0.403317</td>\n",
       "    </tr>\n",
       "    <tr>\n",
       "      <th>10</th>\n",
       "      <td>INMSUPR</td>\n",
       "      <td>-0.372819</td>\n",
       "    </tr>\n",
       "    <tr>\n",
       "      <th>15</th>\n",
       "      <td>RENAL_CHRONIC</td>\n",
       "      <td>-0.304602</td>\n",
       "    </tr>\n",
       "    <tr>\n",
       "      <th>12</th>\n",
       "      <td>OTHER_DISEASE</td>\n",
       "      <td>-0.291458</td>\n",
       "    </tr>\n",
       "    <tr>\n",
       "      <th>13</th>\n",
       "      <td>CARDIOVASCULAR</td>\n",
       "      <td>-0.251881</td>\n",
       "    </tr>\n",
       "    <tr>\n",
       "      <th>16</th>\n",
       "      <td>TOBACCO</td>\n",
       "      <td>-0.234488</td>\n",
       "    </tr>\n",
       "    <tr>\n",
       "      <th>2</th>\n",
       "      <td>SEX</td>\n",
       "      <td>-0.171529</td>\n",
       "    </tr>\n",
       "    <tr>\n",
       "      <th>9</th>\n",
       "      <td>ASTHMA</td>\n",
       "      <td>-0.134644</td>\n",
       "    </tr>\n",
       "    <tr>\n",
       "      <th>0</th>\n",
       "      <td>USMER</td>\n",
       "      <td>-0.059736</td>\n",
       "    </tr>\n",
       "    <tr>\n",
       "      <th>5</th>\n",
       "      <td>AGE</td>\n",
       "      <td>-0.011194</td>\n",
       "    </tr>\n",
       "    <tr>\n",
       "      <th>1</th>\n",
       "      <td>MEDICAL_UNIT</td>\n",
       "      <td>0.018134</td>\n",
       "    </tr>\n",
       "    <tr>\n",
       "      <th>11</th>\n",
       "      <td>HIPERTENSION</td>\n",
       "      <td>0.029325</td>\n",
       "    </tr>\n",
       "    <tr>\n",
       "      <th>7</th>\n",
       "      <td>DIABETES</td>\n",
       "      <td>0.123106</td>\n",
       "    </tr>\n",
       "    <tr>\n",
       "      <th>6</th>\n",
       "      <td>PREGNANT</td>\n",
       "      <td>0.180959</td>\n",
       "    </tr>\n",
       "    <tr>\n",
       "      <th>14</th>\n",
       "      <td>OBESITY</td>\n",
       "      <td>0.306076</td>\n",
       "    </tr>\n",
       "    <tr>\n",
       "      <th>4</th>\n",
       "      <td>PNEUMONIA</td>\n",
       "      <td>0.630120</td>\n",
       "    </tr>\n",
       "  </tbody>\n",
       "</table>\n",
       "</div>"
      ],
      "text/plain": [
       "           feature      coef\n",
       "3     PATIENT_TYPE -0.458542\n",
       "8             COPD -0.403317\n",
       "10         INMSUPR -0.372819\n",
       "15   RENAL_CHRONIC -0.304602\n",
       "12   OTHER_DISEASE -0.291458\n",
       "13  CARDIOVASCULAR -0.251881\n",
       "16         TOBACCO -0.234488\n",
       "2              SEX -0.171529\n",
       "9           ASTHMA -0.134644\n",
       "0            USMER -0.059736\n",
       "5              AGE -0.011194\n",
       "1     MEDICAL_UNIT  0.018134\n",
       "11    HIPERTENSION  0.029325\n",
       "7         DIABETES  0.123106\n",
       "6         PREGNANT  0.180959\n",
       "14         OBESITY  0.306076\n",
       "4        PNEUMONIA  0.630120"
      ]
     },
     "execution_count": 21,
     "metadata": {},
     "output_type": "execute_result"
    }
   ],
   "source": [
    "coef = lr_model.best_estimator_.coef_.ravel()\n",
    "importance_feature = pd.DataFrame({\"feature\": feature_cols, \"coef\": coef})\n",
    "importance_feature.sort_values(by=[\"coef\"])"
   ]
  },
  {
   "cell_type": "code",
   "execution_count": 22,
   "id": "336a3d43",
   "metadata": {},
   "outputs": [
    {
     "name": "stdout",
     "output_type": "stream",
     "text": [
      "___K Nearest Neighboor Model Report___\n",
      "{'accuracy': 0.6033386171940742, 'recall': 0.7383548327772378, 'precision': 0.6617719778279073, 'f1score': 0.6979689758452667, 'roc_auc_score': 0.5603555310954877}\n",
      "              precision    recall  f1-score   support\n",
      "\n",
      "           0       0.47      0.38      0.42    116279\n",
      "           1       0.66      0.74      0.70    190315\n",
      "\n",
      "    accuracy                           0.60    306594\n",
      "   macro avg       0.57      0.56      0.56    306594\n",
      "weighted avg       0.59      0.60      0.59    306594\n",
      "\n"
     ]
    },
    {
     "data": {
      "image/png": "[encoded data removed]",
      "text/plain": [
       "<Figure size 432x288 with 2 Axes>"
      ]
     },
     "metadata": {
      "needs_background": "light"
     },
     "output_type": "display_data"
    }
   ],
   "source": [
    "knn = KNeighborsClassifier(weights='distance', n_neighbors=5)\n",
    "# param_grid = {\n",
    "#     \"n_neighbors\": [i for i in range(5, 9, 2)]\n",
    "# }\n",
    "knn_model = general_report(knn, name=\"K Nearest Neighboor\", n_jobs=3)"
   ]
  },
  {
   "cell_type": "code",
   "execution_count": null,
   "id": "24c344de",
   "metadata": {},
   "outputs": [],
   "source": [
    "svc = svm.SVC(probability=True)\n",
    "param_grid = {\n",
    "#     'C': [1, 10, 100],\n",
    "    'kernel': ['poly', 'rbf', 'sigmoid']\n",
    "}\n",
    "svc_model = general_report(model=svc, name=\"Support Vector Machine\", param_grid=param_grid, scoring='f1', cv=2)"
   ]
  },
  {
   "cell_type": "code",
   "execution_count": null,
   "id": "b1fee36f",
   "metadata": {},
   "outputs": [],
   "source": []
  }
 ],
 "metadata": {
  "kernelspec": {
   "display_name": "Python 3 (ipykernel)",
   "language": "python",
   "name": "python3"
  },
  "language_info": {
   "codemirror_mode": {
    "name": "ipython",
    "version": 3
   },
   "file_extension": ".py",
   "mimetype": "text/x-python",
   "name": "python",
   "nbconvert_exporter": "python",
   "pygments_lexer": "ipython3",
   "version": "3.9.12"
  }
 },
 "nbformat": 4,
 "nbformat_minor": 5
}
