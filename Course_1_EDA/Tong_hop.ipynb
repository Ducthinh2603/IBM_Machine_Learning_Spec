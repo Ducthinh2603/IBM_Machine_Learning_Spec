{
 "cells": [
  {
   "cell_type": "markdown",
   "id": "a79b0001",
   "metadata": {},
   "source": [
    "#### I. DETECTING OUTLIERS\n",
    "\n",
    "**1.** Plot a histogram and density plot\n",
    "```sh\n",
    "sns.distplot(data, bin=20) # bin is number of columns\n",
    "```\n",
    "\n",
    "**2.** Plot a boxplot\n",
    "```sh\n",
    "sns.boxplot(data)\n",
    "```\n",
    "\n",
    "**3.** Interquartile Range\n",
    "```sh\n",
    "q25, q50, q75 = np.percentile(data,[25,50,75])\n",
    "iqr = q75 - q25\n",
    "\n",
    "#Calculate interval to consider outlier\n",
    "low_limit = q25 - 1.5 * iqr # for example\n",
    "high_limit = q75 + 1.5 * iqr\n",
    "\n",
    "#identify the points:\n",
    "[x for x in data['X'] if x > high_limit or x < low_limit]\n",
    "```\n",
    "\n",
    "**4.** Residuals\n",
    "> **Approach:**\n",
    "> - _Standardized_: residual divided by standard error.\n",
    "> - _Deleted_: residual from fitting model on ALL data and ALL data excluding current observation.\n",
    "> - _Studentized_: Deleted residuals / residual standard error.\n"
   ]
  },
  {
   "cell_type": "markdown",
   "id": "2046d4e0",
   "metadata": {},
   "source": [
    "#### II. EDA\n",
    "\n",
    "**1.** Sampling from DataFrames\n",
    "- For large data, random sample can make computation easier.\n",
    "- Train/Dev/Test set\n",
    "```sh\n",
    "sample = data.sample(n=5, replace=False) #take 5 random rows in dataset, replace=False to ensure no duplicated rows\n",
    "print(sample.iloc([:,-3:])\n",
    "```\n",
    "\n",
    "**2.** Visualization\n",
    "_a. Pandas Framework approach_\n",
    "```sh\n",
    "sns.boxplot(data)\n",
    "```\n",
    "\n",
    "**3.** Interquartile Range\n",
    "```sh\n",
    "q25, q50, q75 = np.percentile(data,[25,50,75])\n",
    "iqr = q75 - q25\n",
    "\n",
    "#Calculate interval to consider outlier\n",
    "low_limit = q25 - 1.5 * iqr # for example\n",
    "high_limit = q75 + 1.5 * iqr\n",
    "\n",
    "#identify the points:\n",
    "[x for x in data['X'] if x > high_limit or x < low_limit]\n",
    "```\n",
    "\n",
    "**4.** Residuals\n",
    "> **Approach:**\n",
    "> - _Standardized_: residual divided by standard error.\n",
    "> - _Deleted_: residual from fitting model on ALL data and ALL data excluding current observation.\n",
    "> - _Studentized_: Deleted residuals / residual standard error.\n"
   ]
  },
  {
   "cell_type": "code",
   "execution_count": null,
   "id": "2a0ef757",
   "metadata": {},
   "outputs": [],
   "source": []
  }
 ],
 "metadata": {
  "kernelspec": {
   "display_name": "Python 3 (ipykernel)",
   "language": "python",
   "name": "python3"
  },
  "language_info": {
   "codemirror_mode": {
    "name": "ipython",
    "version": 3
   },
   "file_extension": ".py",
   "mimetype": "text/x-python",
   "name": "python",
   "nbconvert_exporter": "python",
   "pygments_lexer": "ipython3",
   "version": "3.9.12"
  }
 },
 "nbformat": 4,
 "nbformat_minor": 5
}
