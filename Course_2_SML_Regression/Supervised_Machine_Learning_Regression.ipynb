{
 "cells": [
  {
   "cell_type": "markdown",
   "id": "8d20fa48",
   "metadata": {},
   "source": [
    "# W1\n",
    "## 1. Introduction to Supervised\n",
    "### 1.1. Definition\n",
    "- **Model** (a learning algorithm) to capture larger thing. A good model omits unimportant details while retaining what's important.\n",
    "- Project: Web Search, Fraud Detection, Movie Recommendations, Vehicle Driver Assistance, Web Advertisement, Social Network, Speech Recognition.\n",
    "\n",
    "### 1.2. Types of ML  \n",
    ">- Supervised\n",
    ">- Unsupervised\n",
    ">- Semi-supervised  \n",
    "\n",
    "_Two main modeling approachers:_\n",
    "- Regression: y is numeric.\n",
    "- Classification: y is categorical.\n",
    "\n",
    "### 1.3 Interpretation and Prediction\n",
    "**a. Interpretation**\n",
    "- The primary objective is to train a model to find **insights** from the data.\n",
    "- Workflow: \n",
    "    * Gather x,y; Train model by finding //omega// that give best prediction.\n",
    "    * Focus on //omega// (rather than y_p) to generate insights -> choose **less complex** model, which we can know well, and can understand how feature affect outcome.\n",
    "**b. Prediction**  \n",
    "- The primary objective is to make the best prediction.\n",
    "- Focus on **performance metrics**, which measire the quality of model's prediction.\n",
    "- Without focusing on interpretability, we risk having a Black-box model.\n",
    "\n",
    "## 2. Linear Regression\n",
    "```sh\n",
    "import sklearn.linear_model import LinearRegression\n",
    "model = LinearRegression()\n",
    "model = model.fit(X_train, y_train)\n",
    "y_predict = model.predict(X_test)\n",
    "```"
   ]
  },
  {
   "cell_type": "code",
   "execution_count": null,
   "id": "bc1d9e41",
   "metadata": {},
   "outputs": [],
   "source": []
  }
 ],
 "metadata": {
  "kernelspec": {
   "display_name": "Python 3 (ipykernel)",
   "language": "python",
   "name": "python3"
  },
  "language_info": {
   "codemirror_mode": {
    "name": "ipython",
    "version": 3
   },
   "file_extension": ".py",
   "mimetype": "text/x-python",
   "name": "python",
   "nbconvert_exporter": "python",
   "pygments_lexer": "ipython3",
   "version": "3.9.12"
  }
 },
 "nbformat": 4,
 "nbformat_minor": 5
}
